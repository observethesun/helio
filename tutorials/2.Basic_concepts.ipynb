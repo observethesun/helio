{
 "cells": [
  {
   "cell_type": "markdown",
   "metadata": {},
   "source": [
    "# Basic concepts\n",
    "\n",
    "This notebook explains basic concepts of the `helio` framework\n",
    "* [`FilesIndex`](#FilesIndex)\n",
    "* [`BatchSampler`](#BatchSampler)\n",
    "* [`Batch`](#Batch)\n",
    "\n",
    "and gives more examples of use."
   ]
  },
  {
   "cell_type": "markdown",
   "metadata": {},
   "source": [
    "## FilesIndex"
   ]
  },
  {
   "cell_type": "markdown",
   "metadata": {},
   "source": [
    "Usually datasets are sets of files. Each dataset item can be represented by a single file (e.g. an image) or multiple files (e.g. an image and corresponding binary mask). `FilesIndex` provides a convenient way to organize such datasets as well as to sort, split and filter dataset items. In particular, `FilesIndex` is based on the `pandas.DataFrame` class and supports all features and methods\n",
    "available with pandas dataframes.\n",
    "\n",
    "To create a `FilesIndex` one has to provide a mask for files to be indexed and give a reference name to the file set. For example, here we index all files in the directory `aia193_fits` with file extension `.fits`. Reference name for this set is `images`:"
   ]
  },
  {
   "cell_type": "code",
   "execution_count": 1,
   "metadata": {},
   "outputs": [
    {
     "data": {
      "text/html": [
       "<div>\n",
       "<style scoped>\n",
       "    .dataframe tbody tr th:only-of-type {\n",
       "        vertical-align: middle;\n",
       "    }\n",
       "\n",
       "    .dataframe tbody tr th {\n",
       "        vertical-align: top;\n",
       "    }\n",
       "\n",
       "    .dataframe thead th {\n",
       "        text-align: right;\n",
       "    }\n",
       "</style>\n",
       "<table border=\"1\" class=\"dataframe\">\n",
       "  <thead>\n",
       "    <tr style=\"text-align: right;\">\n",
       "      <th></th>\n",
       "      <th>images</th>\n",
       "    </tr>\n",
       "    <tr>\n",
       "      <th>FilesIndex</th>\n",
       "      <th></th>\n",
       "    </tr>\n",
       "  </thead>\n",
       "  <tbody>\n",
       "    <tr>\n",
       "      <th>aia.lev1_euv_12s.2018-12-20T234430Z.193.image_lev1</th>\n",
       "      <td>../../aia193_fits\\aia.lev1_euv_12s.2018-12-20T...</td>\n",
       "    </tr>\n",
       "    <tr>\n",
       "      <th>aia.lev1_euv_12s.2018-12-21T234430Z.193.image_lev1</th>\n",
       "      <td>../../aia193_fits\\aia.lev1_euv_12s.2018-12-21T...</td>\n",
       "    </tr>\n",
       "    <tr>\n",
       "      <th>aia.lev1_euv_12s.2018-12-22T234430Z.193.image_lev1</th>\n",
       "      <td>../../aia193_fits\\aia.lev1_euv_12s.2018-12-22T...</td>\n",
       "    </tr>\n",
       "    <tr>\n",
       "      <th>aia.lev1_euv_12s.2018-12-23T234430Z.193.image_lev1</th>\n",
       "      <td>../../aia193_fits\\aia.lev1_euv_12s.2018-12-23T...</td>\n",
       "    </tr>\n",
       "    <tr>\n",
       "      <th>aia.lev1_euv_12s.2018-12-24T234430Z.193.image_lev1</th>\n",
       "      <td>../../aia193_fits\\aia.lev1_euv_12s.2018-12-24T...</td>\n",
       "    </tr>\n",
       "  </tbody>\n",
       "</table>\n",
       "</div>"
      ],
      "text/plain": [
       "                                                                                               images\n",
       "FilesIndex                                                                                           \n",
       "aia.lev1_euv_12s.2018-12-20T234430Z.193.image_lev1  ../../aia193_fits\\aia.lev1_euv_12s.2018-12-20T...\n",
       "aia.lev1_euv_12s.2018-12-21T234430Z.193.image_lev1  ../../aia193_fits\\aia.lev1_euv_12s.2018-12-21T...\n",
       "aia.lev1_euv_12s.2018-12-22T234430Z.193.image_lev1  ../../aia193_fits\\aia.lev1_euv_12s.2018-12-22T...\n",
       "aia.lev1_euv_12s.2018-12-23T234430Z.193.image_lev1  ../../aia193_fits\\aia.lev1_euv_12s.2018-12-23T...\n",
       "aia.lev1_euv_12s.2018-12-24T234430Z.193.image_lev1  ../../aia193_fits\\aia.lev1_euv_12s.2018-12-24T..."
      ]
     },
     "execution_count": 1,
     "metadata": {},
     "output_type": "execute_result"
    }
   ],
   "source": [
    "import sys\n",
    "sys.path.append(\"..\")\n",
    "\n",
    "from helio import FilesIndex\n",
    "\n",
    "index = FilesIndex(images='../../aia193_fits/*.fits')\n",
    "index.head()"
   ]
  },
  {
   "cell_type": "markdown",
   "metadata": {},
   "source": [
    "Since the `index` is a pandas dataframe, we use `head` to see the first items. In the same way other dataframe methods can be used. E.g. to sort data:"
   ]
  },
  {
   "cell_type": "code",
   "execution_count": 2,
   "metadata": {},
   "outputs": [
    {
     "data": {
      "text/html": [
       "<div>\n",
       "<style scoped>\n",
       "    .dataframe tbody tr th:only-of-type {\n",
       "        vertical-align: middle;\n",
       "    }\n",
       "\n",
       "    .dataframe tbody tr th {\n",
       "        vertical-align: top;\n",
       "    }\n",
       "\n",
       "    .dataframe thead th {\n",
       "        text-align: right;\n",
       "    }\n",
       "</style>\n",
       "<table border=\"1\" class=\"dataframe\">\n",
       "  <thead>\n",
       "    <tr style=\"text-align: right;\">\n",
       "      <th></th>\n",
       "      <th>images</th>\n",
       "    </tr>\n",
       "    <tr>\n",
       "      <th>FilesIndex</th>\n",
       "      <th></th>\n",
       "    </tr>\n",
       "  </thead>\n",
       "  <tbody>\n",
       "    <tr>\n",
       "      <th>aia.lev1_euv_12s.2018-12-20T234430Z.193.image_lev1</th>\n",
       "      <td>../../aia193_fits\\aia.lev1_euv_12s.2018-12-20T...</td>\n",
       "    </tr>\n",
       "    <tr>\n",
       "      <th>aia.lev1_euv_12s.2018-12-21T234430Z.193.image_lev1</th>\n",
       "      <td>../../aia193_fits\\aia.lev1_euv_12s.2018-12-21T...</td>\n",
       "    </tr>\n",
       "    <tr>\n",
       "      <th>aia.lev1_euv_12s.2018-12-22T234430Z.193.image_lev1</th>\n",
       "      <td>../../aia193_fits\\aia.lev1_euv_12s.2018-12-22T...</td>\n",
       "    </tr>\n",
       "    <tr>\n",
       "      <th>aia.lev1_euv_12s.2018-12-23T234430Z.193.image_lev1</th>\n",
       "      <td>../../aia193_fits\\aia.lev1_euv_12s.2018-12-23T...</td>\n",
       "    </tr>\n",
       "    <tr>\n",
       "      <th>aia.lev1_euv_12s.2018-12-24T234430Z.193.image_lev1</th>\n",
       "      <td>../../aia193_fits\\aia.lev1_euv_12s.2018-12-24T...</td>\n",
       "    </tr>\n",
       "  </tbody>\n",
       "</table>\n",
       "</div>"
      ],
      "text/plain": [
       "                                                                                               images\n",
       "FilesIndex                                                                                           \n",
       "aia.lev1_euv_12s.2018-12-20T234430Z.193.image_lev1  ../../aia193_fits\\aia.lev1_euv_12s.2018-12-20T...\n",
       "aia.lev1_euv_12s.2018-12-21T234430Z.193.image_lev1  ../../aia193_fits\\aia.lev1_euv_12s.2018-12-21T...\n",
       "aia.lev1_euv_12s.2018-12-22T234430Z.193.image_lev1  ../../aia193_fits\\aia.lev1_euv_12s.2018-12-22T...\n",
       "aia.lev1_euv_12s.2018-12-23T234430Z.193.image_lev1  ../../aia193_fits\\aia.lev1_euv_12s.2018-12-23T...\n",
       "aia.lev1_euv_12s.2018-12-24T234430Z.193.image_lev1  ../../aia193_fits\\aia.lev1_euv_12s.2018-12-24T..."
      ]
     },
     "execution_count": 2,
     "metadata": {},
     "output_type": "execute_result"
    }
   ],
   "source": [
    "index.sort_values(by='images').head()"
   ]
  },
  {
   "cell_type": "markdown",
   "metadata": {},
   "source": [
    "Get dataset size:"
   ]
  },
  {
   "cell_type": "code",
   "execution_count": 3,
   "metadata": {},
   "outputs": [
    {
     "data": {
      "text/plain": [
       "55"
      ]
     },
     "execution_count": 3,
     "metadata": {},
     "output_type": "execute_result"
    }
   ],
   "source": [
    "len(index)"
   ]
  },
  {
   "cell_type": "markdown",
   "metadata": {},
   "source": [
    "Select a subset:"
   ]
  },
  {
   "cell_type": "code",
   "execution_count": 4,
   "metadata": {},
   "outputs": [
    {
     "data": {
      "text/html": [
       "<div>\n",
       "<style scoped>\n",
       "    .dataframe tbody tr th:only-of-type {\n",
       "        vertical-align: middle;\n",
       "    }\n",
       "\n",
       "    .dataframe tbody tr th {\n",
       "        vertical-align: top;\n",
       "    }\n",
       "\n",
       "    .dataframe thead th {\n",
       "        text-align: right;\n",
       "    }\n",
       "</style>\n",
       "<table border=\"1\" class=\"dataframe\">\n",
       "  <thead>\n",
       "    <tr style=\"text-align: right;\">\n",
       "      <th></th>\n",
       "      <th>images</th>\n",
       "    </tr>\n",
       "    <tr>\n",
       "      <th>FilesIndex</th>\n",
       "      <th></th>\n",
       "    </tr>\n",
       "  </thead>\n",
       "  <tbody>\n",
       "    <tr>\n",
       "      <th>aia.lev1_euv_12s.2018-12-30T234430Z.193.image_lev1</th>\n",
       "      <td>../../aia193_fits\\aia.lev1_euv_12s.2018-12-30T...</td>\n",
       "    </tr>\n",
       "    <tr>\n",
       "      <th>aia.lev1_euv_12s.2018-12-31T234430Z.193.image_lev1</th>\n",
       "      <td>../../aia193_fits\\aia.lev1_euv_12s.2018-12-31T...</td>\n",
       "    </tr>\n",
       "    <tr>\n",
       "      <th>aia.lev1_euv_12s.2019-01-01T234430Z.193.image_lev1</th>\n",
       "      <td>../../aia193_fits\\aia.lev1_euv_12s.2019-01-01T...</td>\n",
       "    </tr>\n",
       "    <tr>\n",
       "      <th>aia.lev1_euv_12s.2019-01-02T234430Z.193.image_lev1</th>\n",
       "      <td>../../aia193_fits\\aia.lev1_euv_12s.2019-01-02T...</td>\n",
       "    </tr>\n",
       "    <tr>\n",
       "      <th>aia.lev1_euv_12s.2019-01-03T234430Z.193.image_lev1</th>\n",
       "      <td>../../aia193_fits\\aia.lev1_euv_12s.2019-01-03T...</td>\n",
       "    </tr>\n",
       "  </tbody>\n",
       "</table>\n",
       "</div>"
      ],
      "text/plain": [
       "                                                                                               images\n",
       "FilesIndex                                                                                           \n",
       "aia.lev1_euv_12s.2018-12-30T234430Z.193.image_lev1  ../../aia193_fits\\aia.lev1_euv_12s.2018-12-30T...\n",
       "aia.lev1_euv_12s.2018-12-31T234430Z.193.image_lev1  ../../aia193_fits\\aia.lev1_euv_12s.2018-12-31T...\n",
       "aia.lev1_euv_12s.2019-01-01T234430Z.193.image_lev1  ../../aia193_fits\\aia.lev1_euv_12s.2019-01-01T...\n",
       "aia.lev1_euv_12s.2019-01-02T234430Z.193.image_lev1  ../../aia193_fits\\aia.lev1_euv_12s.2019-01-02T...\n",
       "aia.lev1_euv_12s.2019-01-03T234430Z.193.image_lev1  ../../aia193_fits\\aia.lev1_euv_12s.2019-01-03T..."
      ]
     },
     "execution_count": 4,
     "metadata": {},
     "output_type": "execute_result"
    }
   ],
   "source": [
    "index.iloc[10:15]"
   ]
  },
  {
   "cell_type": "markdown",
   "metadata": {},
   "source": [
    "Reset the index:"
   ]
  },
  {
   "cell_type": "code",
   "execution_count": 5,
   "metadata": {},
   "outputs": [
    {
     "data": {
      "text/html": [
       "<div>\n",
       "<style scoped>\n",
       "    .dataframe tbody tr th:only-of-type {\n",
       "        vertical-align: middle;\n",
       "    }\n",
       "\n",
       "    .dataframe tbody tr th {\n",
       "        vertical-align: top;\n",
       "    }\n",
       "\n",
       "    .dataframe thead th {\n",
       "        text-align: right;\n",
       "    }\n",
       "</style>\n",
       "<table border=\"1\" class=\"dataframe\">\n",
       "  <thead>\n",
       "    <tr style=\"text-align: right;\">\n",
       "      <th></th>\n",
       "      <th>images</th>\n",
       "    </tr>\n",
       "  </thead>\n",
       "  <tbody>\n",
       "    <tr>\n",
       "      <th>0</th>\n",
       "      <td>../../aia193_fits\\aia.lev1_euv_12s.2018-12-20T...</td>\n",
       "    </tr>\n",
       "    <tr>\n",
       "      <th>1</th>\n",
       "      <td>../../aia193_fits\\aia.lev1_euv_12s.2018-12-21T...</td>\n",
       "    </tr>\n",
       "    <tr>\n",
       "      <th>2</th>\n",
       "      <td>../../aia193_fits\\aia.lev1_euv_12s.2018-12-22T...</td>\n",
       "    </tr>\n",
       "    <tr>\n",
       "      <th>3</th>\n",
       "      <td>../../aia193_fits\\aia.lev1_euv_12s.2018-12-23T...</td>\n",
       "    </tr>\n",
       "    <tr>\n",
       "      <th>4</th>\n",
       "      <td>../../aia193_fits\\aia.lev1_euv_12s.2018-12-24T...</td>\n",
       "    </tr>\n",
       "  </tbody>\n",
       "</table>\n",
       "</div>"
      ],
      "text/plain": [
       "                                              images\n",
       "0  ../../aia193_fits\\aia.lev1_euv_12s.2018-12-20T...\n",
       "1  ../../aia193_fits\\aia.lev1_euv_12s.2018-12-21T...\n",
       "2  ../../aia193_fits\\aia.lev1_euv_12s.2018-12-22T...\n",
       "3  ../../aia193_fits\\aia.lev1_euv_12s.2018-12-23T...\n",
       "4  ../../aia193_fits\\aia.lev1_euv_12s.2018-12-24T..."
      ]
     },
     "execution_count": 5,
     "metadata": {},
     "output_type": "execute_result"
    }
   ],
   "source": [
    "index.reset_index(drop=True).head()"
   ]
  },
  {
   "cell_type": "markdown",
   "metadata": {},
   "source": [
    "Modify indices:"
   ]
  },
  {
   "cell_type": "code",
   "execution_count": 6,
   "metadata": {},
   "outputs": [
    {
     "data": {
      "text/html": [
       "<div>\n",
       "<style scoped>\n",
       "    .dataframe tbody tr th:only-of-type {\n",
       "        vertical-align: middle;\n",
       "    }\n",
       "\n",
       "    .dataframe tbody tr th {\n",
       "        vertical-align: top;\n",
       "    }\n",
       "\n",
       "    .dataframe thead th {\n",
       "        text-align: right;\n",
       "    }\n",
       "</style>\n",
       "<table border=\"1\" class=\"dataframe\">\n",
       "  <thead>\n",
       "    <tr style=\"text-align: right;\">\n",
       "      <th></th>\n",
       "      <th>images</th>\n",
       "    </tr>\n",
       "    <tr>\n",
       "      <th>FilesIndex</th>\n",
       "      <th></th>\n",
       "    </tr>\n",
       "  </thead>\n",
       "  <tbody>\n",
       "    <tr>\n",
       "      <th>2018-12-20T234430</th>\n",
       "      <td>../../aia193_fits\\aia.lev1_euv_12s.2018-12-20T...</td>\n",
       "    </tr>\n",
       "    <tr>\n",
       "      <th>2018-12-21T234430</th>\n",
       "      <td>../../aia193_fits\\aia.lev1_euv_12s.2018-12-21T...</td>\n",
       "    </tr>\n",
       "    <tr>\n",
       "      <th>2018-12-22T234430</th>\n",
       "      <td>../../aia193_fits\\aia.lev1_euv_12s.2018-12-22T...</td>\n",
       "    </tr>\n",
       "    <tr>\n",
       "      <th>2018-12-23T234430</th>\n",
       "      <td>../../aia193_fits\\aia.lev1_euv_12s.2018-12-23T...</td>\n",
       "    </tr>\n",
       "    <tr>\n",
       "      <th>2018-12-24T234430</th>\n",
       "      <td>../../aia193_fits\\aia.lev1_euv_12s.2018-12-24T...</td>\n",
       "    </tr>\n",
       "  </tbody>\n",
       "</table>\n",
       "</div>"
      ],
      "text/plain": [
       "                                                              images\n",
       "FilesIndex                                                          \n",
       "2018-12-20T234430  ../../aia193_fits\\aia.lev1_euv_12s.2018-12-20T...\n",
       "2018-12-21T234430  ../../aia193_fits\\aia.lev1_euv_12s.2018-12-21T...\n",
       "2018-12-22T234430  ../../aia193_fits\\aia.lev1_euv_12s.2018-12-22T...\n",
       "2018-12-23T234430  ../../aia193_fits\\aia.lev1_euv_12s.2018-12-23T...\n",
       "2018-12-24T234430  ../../aia193_fits\\aia.lev1_euv_12s.2018-12-24T..."
      ]
     },
     "execution_count": 6,
     "metadata": {},
     "output_type": "execute_result"
    }
   ],
   "source": [
    "index.index = index.index.map(lambda x: x[17:34])\n",
    "index.head()"
   ]
  },
  {
   "cell_type": "markdown",
   "metadata": {},
   "source": [
    "One more useful feature of the `FilesIndex` is a datetime parser for fuzzy formats:"
   ]
  },
  {
   "cell_type": "code",
   "execution_count": 7,
   "metadata": {},
   "outputs": [
    {
     "data": {
      "text/html": [
       "<div>\n",
       "<style scoped>\n",
       "    .dataframe tbody tr th:only-of-type {\n",
       "        vertical-align: middle;\n",
       "    }\n",
       "\n",
       "    .dataframe tbody tr th {\n",
       "        vertical-align: top;\n",
       "    }\n",
       "\n",
       "    .dataframe thead th {\n",
       "        text-align: right;\n",
       "    }\n",
       "</style>\n",
       "<table border=\"1\" class=\"dataframe\">\n",
       "  <thead>\n",
       "    <tr style=\"text-align: right;\">\n",
       "      <th></th>\n",
       "      <th>images</th>\n",
       "      <th>DateTime</th>\n",
       "    </tr>\n",
       "    <tr>\n",
       "      <th>FilesIndex</th>\n",
       "      <th></th>\n",
       "      <th></th>\n",
       "    </tr>\n",
       "  </thead>\n",
       "  <tbody>\n",
       "    <tr>\n",
       "      <th>2018-12-20T234430</th>\n",
       "      <td>../../aia193_fits\\aia.lev1_euv_12s.2018-12-20T...</td>\n",
       "      <td>2018-12-20 23:44:30</td>\n",
       "    </tr>\n",
       "    <tr>\n",
       "      <th>2018-12-21T234430</th>\n",
       "      <td>../../aia193_fits\\aia.lev1_euv_12s.2018-12-21T...</td>\n",
       "      <td>2018-12-21 23:44:30</td>\n",
       "    </tr>\n",
       "    <tr>\n",
       "      <th>2018-12-22T234430</th>\n",
       "      <td>../../aia193_fits\\aia.lev1_euv_12s.2018-12-22T...</td>\n",
       "      <td>2018-12-22 23:44:30</td>\n",
       "    </tr>\n",
       "    <tr>\n",
       "      <th>2018-12-23T234430</th>\n",
       "      <td>../../aia193_fits\\aia.lev1_euv_12s.2018-12-23T...</td>\n",
       "      <td>2018-12-23 23:44:30</td>\n",
       "    </tr>\n",
       "    <tr>\n",
       "      <th>2018-12-24T234430</th>\n",
       "      <td>../../aia193_fits\\aia.lev1_euv_12s.2018-12-24T...</td>\n",
       "      <td>2018-12-24 23:44:30</td>\n",
       "    </tr>\n",
       "  </tbody>\n",
       "</table>\n",
       "</div>"
      ],
      "text/plain": [
       "                                                              images  \\\n",
       "FilesIndex                                                             \n",
       "2018-12-20T234430  ../../aia193_fits\\aia.lev1_euv_12s.2018-12-20T...   \n",
       "2018-12-21T234430  ../../aia193_fits\\aia.lev1_euv_12s.2018-12-21T...   \n",
       "2018-12-22T234430  ../../aia193_fits\\aia.lev1_euv_12s.2018-12-22T...   \n",
       "2018-12-23T234430  ../../aia193_fits\\aia.lev1_euv_12s.2018-12-23T...   \n",
       "2018-12-24T234430  ../../aia193_fits\\aia.lev1_euv_12s.2018-12-24T...   \n",
       "\n",
       "                             DateTime  \n",
       "FilesIndex                             \n",
       "2018-12-20T234430 2018-12-20 23:44:30  \n",
       "2018-12-21T234430 2018-12-21 23:44:30  \n",
       "2018-12-22T234430 2018-12-22 23:44:30  \n",
       "2018-12-23T234430 2018-12-23 23:44:30  \n",
       "2018-12-24T234430 2018-12-24 23:44:30  "
      ]
     },
     "execution_count": 7,
     "metadata": {},
     "output_type": "execute_result"
    }
   ],
   "source": [
    "index.parse_datetime().head()"
   ]
  },
  {
   "cell_type": "markdown",
   "metadata": {},
   "source": [
    "`DateTime` column can be used to merge multiple observation that correspond to the same time. Another application is to get basic sun parameters:"
   ]
  },
  {
   "cell_type": "code",
   "execution_count": 8,
   "metadata": {},
   "outputs": [
    {
     "data": {
      "text/html": [
       "<div>\n",
       "<style scoped>\n",
       "    .dataframe tbody tr th:only-of-type {\n",
       "        vertical-align: middle;\n",
       "    }\n",
       "\n",
       "    .dataframe tbody tr th {\n",
       "        vertical-align: top;\n",
       "    }\n",
       "\n",
       "    .dataframe thead th {\n",
       "        text-align: right;\n",
       "    }\n",
       "</style>\n",
       "<table border=\"1\" class=\"dataframe\">\n",
       "  <thead>\n",
       "    <tr style=\"text-align: right;\">\n",
       "      <th></th>\n",
       "      <th>images</th>\n",
       "      <th>DateTime</th>\n",
       "      <th>L0</th>\n",
       "      <th>B0</th>\n",
       "      <th>CR</th>\n",
       "    </tr>\n",
       "    <tr>\n",
       "      <th>FilesIndex</th>\n",
       "      <th></th>\n",
       "      <th></th>\n",
       "      <th></th>\n",
       "      <th></th>\n",
       "      <th></th>\n",
       "    </tr>\n",
       "  </thead>\n",
       "  <tbody>\n",
       "    <tr>\n",
       "      <th>2018-12-20T234430</th>\n",
       "      <td>../../aia193_fits\\aia.lev1_euv_12s.2018-12-20T...</td>\n",
       "      <td>2018-12-20 23:44:30</td>\n",
       "      <td>353.448898</td>\n",
       "      <td>-1.631964</td>\n",
       "      <td>2212</td>\n",
       "    </tr>\n",
       "    <tr>\n",
       "      <th>2018-12-21T234430</th>\n",
       "      <td>../../aia193_fits\\aia.lev1_euv_12s.2018-12-21T...</td>\n",
       "      <td>2018-12-21 23:44:30</td>\n",
       "      <td>340.275175</td>\n",
       "      <td>-1.756973</td>\n",
       "      <td>2212</td>\n",
       "    </tr>\n",
       "    <tr>\n",
       "      <th>2018-12-22T234430</th>\n",
       "      <td>../../aia193_fits\\aia.lev1_euv_12s.2018-12-22T...</td>\n",
       "      <td>2018-12-22 23:44:30</td>\n",
       "      <td>327.101705</td>\n",
       "      <td>-1.881456</td>\n",
       "      <td>2212</td>\n",
       "    </tr>\n",
       "    <tr>\n",
       "      <th>2018-12-23T234430</th>\n",
       "      <td>../../aia193_fits\\aia.lev1_euv_12s.2018-12-23T...</td>\n",
       "      <td>2018-12-23 23:44:30</td>\n",
       "      <td>313.928509</td>\n",
       "      <td>-2.005373</td>\n",
       "      <td>2212</td>\n",
       "    </tr>\n",
       "    <tr>\n",
       "      <th>2018-12-24T234430</th>\n",
       "      <td>../../aia193_fits\\aia.lev1_euv_12s.2018-12-24T...</td>\n",
       "      <td>2018-12-24 23:44:30</td>\n",
       "      <td>300.755608</td>\n",
       "      <td>-2.128685</td>\n",
       "      <td>2212</td>\n",
       "    </tr>\n",
       "  </tbody>\n",
       "</table>\n",
       "</div>"
      ],
      "text/plain": [
       "                                                              images  \\\n",
       "FilesIndex                                                             \n",
       "2018-12-20T234430  ../../aia193_fits\\aia.lev1_euv_12s.2018-12-20T...   \n",
       "2018-12-21T234430  ../../aia193_fits\\aia.lev1_euv_12s.2018-12-21T...   \n",
       "2018-12-22T234430  ../../aia193_fits\\aia.lev1_euv_12s.2018-12-22T...   \n",
       "2018-12-23T234430  ../../aia193_fits\\aia.lev1_euv_12s.2018-12-23T...   \n",
       "2018-12-24T234430  ../../aia193_fits\\aia.lev1_euv_12s.2018-12-24T...   \n",
       "\n",
       "                             DateTime          L0        B0    CR  \n",
       "FilesIndex                                                         \n",
       "2018-12-20T234430 2018-12-20 23:44:30  353.448898 -1.631964  2212  \n",
       "2018-12-21T234430 2018-12-21 23:44:30  340.275175 -1.756973  2212  \n",
       "2018-12-22T234430 2018-12-22 23:44:30  327.101705 -1.881456  2212  \n",
       "2018-12-23T234430 2018-12-23 23:44:30  313.928509 -2.005373  2212  \n",
       "2018-12-24T234430 2018-12-24 23:44:30  300.755608 -2.128685  2212  "
      ]
     },
     "execution_count": 8,
     "metadata": {},
     "output_type": "execute_result"
    }
   ],
   "source": [
    "index.get_sun_params().head()"
   ]
  },
  {
   "cell_type": "markdown",
   "metadata": {},
   "source": [
    "Now we can e.g. set the Carrington rotation number as an index and select specific numbers:"
   ]
  },
  {
   "cell_type": "code",
   "execution_count": 9,
   "metadata": {},
   "outputs": [
    {
     "data": {
      "text/html": [
       "<div>\n",
       "<style scoped>\n",
       "    .dataframe tbody tr th:only-of-type {\n",
       "        vertical-align: middle;\n",
       "    }\n",
       "\n",
       "    .dataframe tbody tr th {\n",
       "        vertical-align: top;\n",
       "    }\n",
       "\n",
       "    .dataframe thead th {\n",
       "        text-align: right;\n",
       "    }\n",
       "</style>\n",
       "<table border=\"1\" class=\"dataframe\">\n",
       "  <thead>\n",
       "    <tr style=\"text-align: right;\">\n",
       "      <th></th>\n",
       "      <th>FilesIndex</th>\n",
       "      <th>images</th>\n",
       "      <th>DateTime</th>\n",
       "      <th>L0</th>\n",
       "      <th>B0</th>\n",
       "    </tr>\n",
       "    <tr>\n",
       "      <th>CR</th>\n",
       "      <th></th>\n",
       "      <th></th>\n",
       "      <th></th>\n",
       "      <th></th>\n",
       "      <th></th>\n",
       "    </tr>\n",
       "  </thead>\n",
       "  <tbody>\n",
       "    <tr>\n",
       "      <th>2213</th>\n",
       "      <td>2019-01-16T234430</td>\n",
       "      <td>../../aia193_fits\\aia.lev1_euv_12s.2019-01-16T...</td>\n",
       "      <td>2019-01-16 23:44:30</td>\n",
       "      <td>357.856648</td>\n",
       "      <td>-4.707531</td>\n",
       "    </tr>\n",
       "    <tr>\n",
       "      <th>2213</th>\n",
       "      <td>2019-01-17T234430</td>\n",
       "      <td>../../aia193_fits\\aia.lev1_euv_12s.2019-01-17T...</td>\n",
       "      <td>2019-01-17 23:44:30</td>\n",
       "      <td>344.689145</td>\n",
       "      <td>-4.804793</td>\n",
       "    </tr>\n",
       "    <tr>\n",
       "      <th>2213</th>\n",
       "      <td>2019-01-18T234430</td>\n",
       "      <td>../../aia193_fits\\aia.lev1_euv_12s.2019-01-18T...</td>\n",
       "      <td>2019-01-18 23:44:30</td>\n",
       "      <td>331.521721</td>\n",
       "      <td>-4.900536</td>\n",
       "    </tr>\n",
       "    <tr>\n",
       "      <th>2213</th>\n",
       "      <td>2019-01-19T234430</td>\n",
       "      <td>../../aia193_fits\\aia.lev1_euv_12s.2019-01-19T...</td>\n",
       "      <td>2019-01-19 23:44:30</td>\n",
       "      <td>318.354380</td>\n",
       "      <td>-4.994727</td>\n",
       "    </tr>\n",
       "    <tr>\n",
       "      <th>2213</th>\n",
       "      <td>2019-01-20T234430</td>\n",
       "      <td>../../aia193_fits\\aia.lev1_euv_12s.2019-01-20T...</td>\n",
       "      <td>2019-01-20 23:44:30</td>\n",
       "      <td>305.187132</td>\n",
       "      <td>-5.087337</td>\n",
       "    </tr>\n",
       "  </tbody>\n",
       "</table>\n",
       "</div>"
      ],
      "text/plain": [
       "             FilesIndex                                             images  \\\n",
       "CR                                                                           \n",
       "2213  2019-01-16T234430  ../../aia193_fits\\aia.lev1_euv_12s.2019-01-16T...   \n",
       "2213  2019-01-17T234430  ../../aia193_fits\\aia.lev1_euv_12s.2019-01-17T...   \n",
       "2213  2019-01-18T234430  ../../aia193_fits\\aia.lev1_euv_12s.2019-01-18T...   \n",
       "2213  2019-01-19T234430  ../../aia193_fits\\aia.lev1_euv_12s.2019-01-19T...   \n",
       "2213  2019-01-20T234430  ../../aia193_fits\\aia.lev1_euv_12s.2019-01-20T...   \n",
       "\n",
       "                DateTime          L0        B0  \n",
       "CR                                              \n",
       "2213 2019-01-16 23:44:30  357.856648 -4.707531  \n",
       "2213 2019-01-17 23:44:30  344.689145 -4.804793  \n",
       "2213 2019-01-18 23:44:30  331.521721 -4.900536  \n",
       "2213 2019-01-19 23:44:30  318.354380 -4.994727  \n",
       "2213 2019-01-20 23:44:30  305.187132 -5.087337  "
      ]
     },
     "execution_count": 9,
     "metadata": {},
     "output_type": "execute_result"
    }
   ],
   "source": [
    "new_index = index.reset_index().set_index('CR').loc[[2213]]\n",
    "new_index.head()"
   ]
  },
  {
   "cell_type": "markdown",
   "metadata": {},
   "source": [
    "One more thing to be mentioned is a train/test split of the index:"
   ]
  },
  {
   "cell_type": "code",
   "execution_count": 10,
   "metadata": {},
   "outputs": [
    {
     "name": "stdout",
     "output_type": "stream",
     "text": [
      "Train size: 44 Test size: 11\n"
     ]
    },
    {
     "data": {
      "text/html": [
       "<div>\n",
       "<style scoped>\n",
       "    .dataframe tbody tr th:only-of-type {\n",
       "        vertical-align: middle;\n",
       "    }\n",
       "\n",
       "    .dataframe tbody tr th {\n",
       "        vertical-align: top;\n",
       "    }\n",
       "\n",
       "    .dataframe thead th {\n",
       "        text-align: right;\n",
       "    }\n",
       "</style>\n",
       "<table border=\"1\" class=\"dataframe\">\n",
       "  <thead>\n",
       "    <tr style=\"text-align: right;\">\n",
       "      <th></th>\n",
       "      <th>images</th>\n",
       "      <th>DateTime</th>\n",
       "      <th>L0</th>\n",
       "      <th>B0</th>\n",
       "      <th>CR</th>\n",
       "    </tr>\n",
       "    <tr>\n",
       "      <th>FilesIndex</th>\n",
       "      <th></th>\n",
       "      <th></th>\n",
       "      <th></th>\n",
       "      <th></th>\n",
       "      <th></th>\n",
       "    </tr>\n",
       "  </thead>\n",
       "  <tbody>\n",
       "    <tr>\n",
       "      <th>2018-12-27T234430</th>\n",
       "      <td>../../aia193_fits\\aia.lev1_euv_12s.2018-12-27T...</td>\n",
       "      <td>2018-12-27 23:44:30</td>\n",
       "      <td>261.238850</td>\n",
       "      <td>-2.494584</td>\n",
       "      <td>2212</td>\n",
       "    </tr>\n",
       "    <tr>\n",
       "      <th>2019-02-05T234430</th>\n",
       "      <td>../../aia193_fits\\aia.lev1_euv_12s.2019-02-05T...</td>\n",
       "      <td>2019-02-05 23:44:30</td>\n",
       "      <td>94.525899</td>\n",
       "      <td>-6.331311</td>\n",
       "      <td>2213</td>\n",
       "    </tr>\n",
       "    <tr>\n",
       "      <th>2019-01-27T234430</th>\n",
       "      <td>../../aia193_fits\\aia.lev1_euv_12s.2019-01-27T...</td>\n",
       "      <td>2019-01-27 23:44:30</td>\n",
       "      <td>213.019959</td>\n",
       "      <td>-5.688857</td>\n",
       "      <td>2213</td>\n",
       "    </tr>\n",
       "    <tr>\n",
       "      <th>2019-01-26T234430</th>\n",
       "      <td>../../aia193_fits\\aia.lev1_euv_12s.2019-01-26T...</td>\n",
       "      <td>2019-01-26 23:44:30</td>\n",
       "      <td>226.186285</td>\n",
       "      <td>-5.608132</td>\n",
       "      <td>2213</td>\n",
       "    </tr>\n",
       "    <tr>\n",
       "      <th>2019-01-31T234430</th>\n",
       "      <td>../../aia193_fits\\aia.lev1_euv_12s.2019-01-31T...</td>\n",
       "      <td>2019-01-31 23:44:30</td>\n",
       "      <td>160.355668</td>\n",
       "      <td>-5.993455</td>\n",
       "      <td>2213</td>\n",
       "    </tr>\n",
       "  </tbody>\n",
       "</table>\n",
       "</div>"
      ],
      "text/plain": [
       "                                                              images  \\\n",
       "FilesIndex                                                             \n",
       "2018-12-27T234430  ../../aia193_fits\\aia.lev1_euv_12s.2018-12-27T...   \n",
       "2019-02-05T234430  ../../aia193_fits\\aia.lev1_euv_12s.2019-02-05T...   \n",
       "2019-01-27T234430  ../../aia193_fits\\aia.lev1_euv_12s.2019-01-27T...   \n",
       "2019-01-26T234430  ../../aia193_fits\\aia.lev1_euv_12s.2019-01-26T...   \n",
       "2019-01-31T234430  ../../aia193_fits\\aia.lev1_euv_12s.2019-01-31T...   \n",
       "\n",
       "                             DateTime          L0        B0    CR  \n",
       "FilesIndex                                                         \n",
       "2018-12-27T234430 2018-12-27 23:44:30  261.238850 -2.494584  2212  \n",
       "2019-02-05T234430 2019-02-05 23:44:30   94.525899 -6.331311  2213  \n",
       "2019-01-27T234430 2019-01-27 23:44:30  213.019959 -5.688857  2213  \n",
       "2019-01-26T234430 2019-01-26 23:44:30  226.186285 -5.608132  2213  \n",
       "2019-01-31T234430 2019-01-31 23:44:30  160.355668 -5.993455  2213  "
      ]
     },
     "execution_count": 10,
     "metadata": {},
     "output_type": "execute_result"
    }
   ],
   "source": [
    "train, test = index.train_test_split(train_ratio=0.8, shuffle=True)\n",
    "print(\"Train size:\", len(train), \"Test size:\", len(test))\n",
    "train.head()"
   ]
  },
  {
   "cell_type": "markdown",
   "metadata": {},
   "source": [
    "So far we used a single set of files. Two or more index instances can be joined on a common column (ids). For examples let's create a dataset of pairs (image, binary mask). First we index images"
   ]
  },
  {
   "cell_type": "code",
   "execution_count": 17,
   "metadata": {},
   "outputs": [
    {
     "data": {
      "text/html": [
       "<div>\n",
       "<style scoped>\n",
       "    .dataframe tbody tr th:only-of-type {\n",
       "        vertical-align: middle;\n",
       "    }\n",
       "\n",
       "    .dataframe tbody tr th {\n",
       "        vertical-align: top;\n",
       "    }\n",
       "\n",
       "    .dataframe thead th {\n",
       "        text-align: right;\n",
       "    }\n",
       "</style>\n",
       "<table border=\"1\" class=\"dataframe\">\n",
       "  <thead>\n",
       "    <tr style=\"text-align: right;\">\n",
       "      <th></th>\n",
       "      <th>img</th>\n",
       "    </tr>\n",
       "    <tr>\n",
       "      <th>FilesIndex</th>\n",
       "      <th></th>\n",
       "    </tr>\n",
       "  </thead>\n",
       "  <tbody>\n",
       "    <tr>\n",
       "      <th>aia193_synmap_cr2098</th>\n",
       "      <td>../../catalogue_data\\aia193_synmap_cr2098.fits</td>\n",
       "    </tr>\n",
       "    <tr>\n",
       "      <th>aia193_synmap_cr2099</th>\n",
       "      <td>../../catalogue_data\\aia193_synmap_cr2099.fits</td>\n",
       "    </tr>\n",
       "    <tr>\n",
       "      <th>aia193_synmap_cr2100</th>\n",
       "      <td>../../catalogue_data\\aia193_synmap_cr2100.fits</td>\n",
       "    </tr>\n",
       "    <tr>\n",
       "      <th>aia193_synmap_cr2101</th>\n",
       "      <td>../../catalogue_data\\aia193_synmap_cr2101.fits</td>\n",
       "    </tr>\n",
       "    <tr>\n",
       "      <th>aia193_synmap_cr2102</th>\n",
       "      <td>../../catalogue_data\\aia193_synmap_cr2102.fits</td>\n",
       "    </tr>\n",
       "  </tbody>\n",
       "</table>\n",
       "</div>"
      ],
      "text/plain": [
       "                                                                 img\n",
       "FilesIndex                                                          \n",
       "aia193_synmap_cr2098  ../../catalogue_data\\aia193_synmap_cr2098.fits\n",
       "aia193_synmap_cr2099  ../../catalogue_data\\aia193_synmap_cr2099.fits\n",
       "aia193_synmap_cr2100  ../../catalogue_data\\aia193_synmap_cr2100.fits\n",
       "aia193_synmap_cr2101  ../../catalogue_data\\aia193_synmap_cr2101.fits\n",
       "aia193_synmap_cr2102  ../../catalogue_data\\aia193_synmap_cr2102.fits"
      ]
     },
     "execution_count": 17,
     "metadata": {},
     "output_type": "execute_result"
    }
   ],
   "source": [
    "images = FilesIndex(img='../../catalogue_data/aia*.fits')\n",
    "images.head()"
   ]
  },
  {
   "cell_type": "markdown",
   "metadata": {},
   "source": [
    "Then we index files with binary masks:"
   ]
  },
  {
   "cell_type": "code",
   "execution_count": 18,
   "metadata": {},
   "outputs": [
    {
     "data": {
      "text/html": [
       "<div>\n",
       "<style scoped>\n",
       "    .dataframe tbody tr th:only-of-type {\n",
       "        vertical-align: middle;\n",
       "    }\n",
       "\n",
       "    .dataframe tbody tr th {\n",
       "        vertical-align: top;\n",
       "    }\n",
       "\n",
       "    .dataframe thead th {\n",
       "        text-align: right;\n",
       "    }\n",
       "</style>\n",
       "<table border=\"1\" class=\"dataframe\">\n",
       "  <thead>\n",
       "    <tr style=\"text-align: right;\">\n",
       "      <th></th>\n",
       "      <th>mask</th>\n",
       "    </tr>\n",
       "    <tr>\n",
       "      <th>FilesIndex</th>\n",
       "      <th></th>\n",
       "    </tr>\n",
       "  </thead>\n",
       "  <tbody>\n",
       "    <tr>\n",
       "      <th>chs_synmap_cr2098</th>\n",
       "      <td>../../catalogue_data\\chs_synmap_cr2098.fits</td>\n",
       "    </tr>\n",
       "    <tr>\n",
       "      <th>chs_synmap_cr2099</th>\n",
       "      <td>../../catalogue_data\\chs_synmap_cr2099.fits</td>\n",
       "    </tr>\n",
       "    <tr>\n",
       "      <th>chs_synmap_cr2100</th>\n",
       "      <td>../../catalogue_data\\chs_synmap_cr2100.fits</td>\n",
       "    </tr>\n",
       "    <tr>\n",
       "      <th>chs_synmap_cr2101</th>\n",
       "      <td>../../catalogue_data\\chs_synmap_cr2101.fits</td>\n",
       "    </tr>\n",
       "    <tr>\n",
       "      <th>chs_synmap_cr2102</th>\n",
       "      <td>../../catalogue_data\\chs_synmap_cr2102.fits</td>\n",
       "    </tr>\n",
       "  </tbody>\n",
       "</table>\n",
       "</div>"
      ],
      "text/plain": [
       "                                                          mask\n",
       "FilesIndex                                                    \n",
       "chs_synmap_cr2098  ../../catalogue_data\\chs_synmap_cr2098.fits\n",
       "chs_synmap_cr2099  ../../catalogue_data\\chs_synmap_cr2099.fits\n",
       "chs_synmap_cr2100  ../../catalogue_data\\chs_synmap_cr2100.fits\n",
       "chs_synmap_cr2101  ../../catalogue_data\\chs_synmap_cr2101.fits\n",
       "chs_synmap_cr2102  ../../catalogue_data\\chs_synmap_cr2102.fits"
      ]
     },
     "execution_count": 18,
     "metadata": {},
     "output_type": "execute_result"
    }
   ],
   "source": [
    "masks = FilesIndex(mask='../../catalogue_data/chs*.fits')\n",
    "masks.head()"
   ]
  },
  {
   "cell_type": "markdown",
   "metadata": {},
   "source": [
    "Now we need a common column to join on. This column can be a Carrington rotation number:"
   ]
  },
  {
   "cell_type": "code",
   "execution_count": 19,
   "metadata": {},
   "outputs": [
    {
     "data": {
      "text/html": [
       "<div>\n",
       "<style scoped>\n",
       "    .dataframe tbody tr th:only-of-type {\n",
       "        vertical-align: middle;\n",
       "    }\n",
       "\n",
       "    .dataframe tbody tr th {\n",
       "        vertical-align: top;\n",
       "    }\n",
       "\n",
       "    .dataframe thead th {\n",
       "        text-align: right;\n",
       "    }\n",
       "</style>\n",
       "<table border=\"1\" class=\"dataframe\">\n",
       "  <thead>\n",
       "    <tr style=\"text-align: right;\">\n",
       "      <th></th>\n",
       "      <th>img</th>\n",
       "    </tr>\n",
       "    <tr>\n",
       "      <th>CR</th>\n",
       "      <th></th>\n",
       "    </tr>\n",
       "  </thead>\n",
       "  <tbody>\n",
       "    <tr>\n",
       "      <th>2098</th>\n",
       "      <td>../../catalogue_data\\aia193_synmap_cr2098.fits</td>\n",
       "    </tr>\n",
       "    <tr>\n",
       "      <th>2099</th>\n",
       "      <td>../../catalogue_data\\aia193_synmap_cr2099.fits</td>\n",
       "    </tr>\n",
       "    <tr>\n",
       "      <th>2100</th>\n",
       "      <td>../../catalogue_data\\aia193_synmap_cr2100.fits</td>\n",
       "    </tr>\n",
       "    <tr>\n",
       "      <th>2101</th>\n",
       "      <td>../../catalogue_data\\aia193_synmap_cr2101.fits</td>\n",
       "    </tr>\n",
       "    <tr>\n",
       "      <th>2102</th>\n",
       "      <td>../../catalogue_data\\aia193_synmap_cr2102.fits</td>\n",
       "    </tr>\n",
       "  </tbody>\n",
       "</table>\n",
       "</div>"
      ],
      "text/plain": [
       "                                                 img\n",
       "CR                                                  \n",
       "2098  ../../catalogue_data\\aia193_synmap_cr2098.fits\n",
       "2099  ../../catalogue_data\\aia193_synmap_cr2099.fits\n",
       "2100  ../../catalogue_data\\aia193_synmap_cr2100.fits\n",
       "2101  ../../catalogue_data\\aia193_synmap_cr2101.fits\n",
       "2102  ../../catalogue_data\\aia193_synmap_cr2102.fits"
      ]
     },
     "execution_count": 19,
     "metadata": {},
     "output_type": "execute_result"
    }
   ],
   "source": [
    "images['CR'] = images.index.map(lambda x: x[-4:])\n",
    "images = images.reset_index(drop=True).set_index('CR')\n",
    "images.head()"
   ]
  },
  {
   "cell_type": "markdown",
   "metadata": {},
   "source": [
    "Prepare the second index to join:"
   ]
  },
  {
   "cell_type": "code",
   "execution_count": 20,
   "metadata": {},
   "outputs": [
    {
     "data": {
      "text/html": [
       "<div>\n",
       "<style scoped>\n",
       "    .dataframe tbody tr th:only-of-type {\n",
       "        vertical-align: middle;\n",
       "    }\n",
       "\n",
       "    .dataframe tbody tr th {\n",
       "        vertical-align: top;\n",
       "    }\n",
       "\n",
       "    .dataframe thead th {\n",
       "        text-align: right;\n",
       "    }\n",
       "</style>\n",
       "<table border=\"1\" class=\"dataframe\">\n",
       "  <thead>\n",
       "    <tr style=\"text-align: right;\">\n",
       "      <th></th>\n",
       "      <th>mask</th>\n",
       "    </tr>\n",
       "    <tr>\n",
       "      <th>CR</th>\n",
       "      <th></th>\n",
       "    </tr>\n",
       "  </thead>\n",
       "  <tbody>\n",
       "    <tr>\n",
       "      <th>2098</th>\n",
       "      <td>../../catalogue_data\\chs_synmap_cr2098.fits</td>\n",
       "    </tr>\n",
       "    <tr>\n",
       "      <th>2099</th>\n",
       "      <td>../../catalogue_data\\chs_synmap_cr2099.fits</td>\n",
       "    </tr>\n",
       "    <tr>\n",
       "      <th>2100</th>\n",
       "      <td>../../catalogue_data\\chs_synmap_cr2100.fits</td>\n",
       "    </tr>\n",
       "    <tr>\n",
       "      <th>2101</th>\n",
       "      <td>../../catalogue_data\\chs_synmap_cr2101.fits</td>\n",
       "    </tr>\n",
       "    <tr>\n",
       "      <th>2102</th>\n",
       "      <td>../../catalogue_data\\chs_synmap_cr2102.fits</td>\n",
       "    </tr>\n",
       "  </tbody>\n",
       "</table>\n",
       "</div>"
      ],
      "text/plain": [
       "                                             mask\n",
       "CR                                               \n",
       "2098  ../../catalogue_data\\chs_synmap_cr2098.fits\n",
       "2099  ../../catalogue_data\\chs_synmap_cr2099.fits\n",
       "2100  ../../catalogue_data\\chs_synmap_cr2100.fits\n",
       "2101  ../../catalogue_data\\chs_synmap_cr2101.fits\n",
       "2102  ../../catalogue_data\\chs_synmap_cr2102.fits"
      ]
     },
     "execution_count": 20,
     "metadata": {},
     "output_type": "execute_result"
    }
   ],
   "source": [
    "masks['CR'] = masks.index.map(lambda x: x[-4:])\n",
    "masks = masks.reset_index(drop=True).set_index('CR')\n",
    "masks.head()"
   ]
  },
  {
   "cell_type": "markdown",
   "metadata": {},
   "source": [
    "Now we can join datasets of images and masks using Carrington rotation number as a primary key:"
   ]
  },
  {
   "cell_type": "code",
   "execution_count": 21,
   "metadata": {},
   "outputs": [
    {
     "data": {
      "text/html": [
       "<div>\n",
       "<style scoped>\n",
       "    .dataframe tbody tr th:only-of-type {\n",
       "        vertical-align: middle;\n",
       "    }\n",
       "\n",
       "    .dataframe tbody tr th {\n",
       "        vertical-align: top;\n",
       "    }\n",
       "\n",
       "    .dataframe thead th {\n",
       "        text-align: right;\n",
       "    }\n",
       "</style>\n",
       "<table border=\"1\" class=\"dataframe\">\n",
       "  <thead>\n",
       "    <tr style=\"text-align: right;\">\n",
       "      <th></th>\n",
       "      <th>img</th>\n",
       "      <th>mask</th>\n",
       "    </tr>\n",
       "    <tr>\n",
       "      <th>CR</th>\n",
       "      <th></th>\n",
       "      <th></th>\n",
       "    </tr>\n",
       "  </thead>\n",
       "  <tbody>\n",
       "    <tr>\n",
       "      <th>2098</th>\n",
       "      <td>../../catalogue_data\\aia193_synmap_cr2098.fits</td>\n",
       "      <td>../../catalogue_data\\chs_synmap_cr2098.fits</td>\n",
       "    </tr>\n",
       "    <tr>\n",
       "      <th>2099</th>\n",
       "      <td>../../catalogue_data\\aia193_synmap_cr2099.fits</td>\n",
       "      <td>../../catalogue_data\\chs_synmap_cr2099.fits</td>\n",
       "    </tr>\n",
       "    <tr>\n",
       "      <th>2100</th>\n",
       "      <td>../../catalogue_data\\aia193_synmap_cr2100.fits</td>\n",
       "      <td>../../catalogue_data\\chs_synmap_cr2100.fits</td>\n",
       "    </tr>\n",
       "    <tr>\n",
       "      <th>2101</th>\n",
       "      <td>../../catalogue_data\\aia193_synmap_cr2101.fits</td>\n",
       "      <td>../../catalogue_data\\chs_synmap_cr2101.fits</td>\n",
       "    </tr>\n",
       "    <tr>\n",
       "      <th>2102</th>\n",
       "      <td>../../catalogue_data\\aia193_synmap_cr2102.fits</td>\n",
       "      <td>../../catalogue_data\\chs_synmap_cr2102.fits</td>\n",
       "    </tr>\n",
       "  </tbody>\n",
       "</table>\n",
       "</div>"
      ],
      "text/plain": [
       "                                                 img  \\\n",
       "CR                                                     \n",
       "2098  ../../catalogue_data\\aia193_synmap_cr2098.fits   \n",
       "2099  ../../catalogue_data\\aia193_synmap_cr2099.fits   \n",
       "2100  ../../catalogue_data\\aia193_synmap_cr2100.fits   \n",
       "2101  ../../catalogue_data\\aia193_synmap_cr2101.fits   \n",
       "2102  ../../catalogue_data\\aia193_synmap_cr2102.fits   \n",
       "\n",
       "                                             mask  \n",
       "CR                                                 \n",
       "2098  ../../catalogue_data\\chs_synmap_cr2098.fits  \n",
       "2099  ../../catalogue_data\\chs_synmap_cr2099.fits  \n",
       "2100  ../../catalogue_data\\chs_synmap_cr2100.fits  \n",
       "2101  ../../catalogue_data\\chs_synmap_cr2101.fits  \n",
       "2102  ../../catalogue_data\\chs_synmap_cr2102.fits  "
      ]
     },
     "execution_count": 21,
     "metadata": {},
     "output_type": "execute_result"
    }
   ],
   "source": [
    "index = images.index_merge(masks)\n",
    "index.head()"
   ]
  },
  {
   "cell_type": "markdown",
   "metadata": {},
   "source": [
    "In the same way one can add more datasets into a joint index."
   ]
  },
  {
   "cell_type": "markdown",
   "metadata": {},
   "source": [
    "## BatchSampler\n",
    "\n",
    "We use `BatchSampler` to iterate over the dataset in chunks. There are several options how\n",
    "to organize iterations. For demonstration let's create some dataset (of size 10):"
   ]
  },
  {
   "cell_type": "code",
   "execution_count": 22,
   "metadata": {},
   "outputs": [
    {
     "data": {
      "text/html": [
       "<div>\n",
       "<style scoped>\n",
       "    .dataframe tbody tr th:only-of-type {\n",
       "        vertical-align: middle;\n",
       "    }\n",
       "\n",
       "    .dataframe tbody tr th {\n",
       "        vertical-align: top;\n",
       "    }\n",
       "\n",
       "    .dataframe thead th {\n",
       "        text-align: right;\n",
       "    }\n",
       "</style>\n",
       "<table border=\"1\" class=\"dataframe\">\n",
       "  <thead>\n",
       "    <tr style=\"text-align: right;\">\n",
       "      <th></th>\n",
       "      <th>img</th>\n",
       "    </tr>\n",
       "  </thead>\n",
       "  <tbody>\n",
       "    <tr>\n",
       "      <th>0</th>\n",
       "      <td>../../aia193_images\\20200202_234500.jpg</td>\n",
       "    </tr>\n",
       "    <tr>\n",
       "      <th>1</th>\n",
       "      <td>../../aia193_images\\20200203_234500.jpg</td>\n",
       "    </tr>\n",
       "    <tr>\n",
       "      <th>2</th>\n",
       "      <td>../../aia193_images\\20200204_234500.jpg</td>\n",
       "    </tr>\n",
       "    <tr>\n",
       "      <th>3</th>\n",
       "      <td>../../aia193_images\\20200205_234500.jpg</td>\n",
       "    </tr>\n",
       "    <tr>\n",
       "      <th>4</th>\n",
       "      <td>../../aia193_images\\20200206_234500.jpg</td>\n",
       "    </tr>\n",
       "  </tbody>\n",
       "</table>\n",
       "</div>"
      ],
      "text/plain": [
       "                                       img\n",
       "0  ../../aia193_images\\20200202_234500.jpg\n",
       "1  ../../aia193_images\\20200203_234500.jpg\n",
       "2  ../../aia193_images\\20200204_234500.jpg\n",
       "3  ../../aia193_images\\20200205_234500.jpg\n",
       "4  ../../aia193_images\\20200206_234500.jpg"
      ]
     },
     "execution_count": 22,
     "metadata": {},
     "output_type": "execute_result"
    }
   ],
   "source": [
    "index = FilesIndex(img='../../aia193_images/*.jpg').iloc[:10].reset_index(drop=True)\n",
    "index.head()"
   ]
  },
  {
   "cell_type": "markdown",
   "metadata": {},
   "source": [
    "The simplest case is to iterate over the dataset with chunks (batches) of size e.g. 2. At each iteration we obtain an index for a subset of size 2. Here we show indices in each chunk:"
   ]
  },
  {
   "cell_type": "code",
   "execution_count": 23,
   "metadata": {},
   "outputs": [
    {
     "name": "stdout",
     "output_type": "stream",
     "text": [
      "[0 1]\n",
      "[2 3]\n",
      "[4 5]\n",
      "[6 7]\n",
      "[8 9]\n"
     ]
    }
   ],
   "source": [
    "from helio import BatchSampler\n",
    "\n",
    "sampler = BatchSampler(index, batch_size=2)\n",
    "\n",
    "for ids in sampler:\n",
    "    print(ids.indices)"
   ]
  },
  {
   "cell_type": "markdown",
   "metadata": {},
   "source": [
    "Sampled index is an instance of `FilesIndex` as well:"
   ]
  },
  {
   "cell_type": "code",
   "execution_count": 24,
   "metadata": {},
   "outputs": [
    {
     "data": {
      "text/html": [
       "<div>\n",
       "<style scoped>\n",
       "    .dataframe tbody tr th:only-of-type {\n",
       "        vertical-align: middle;\n",
       "    }\n",
       "\n",
       "    .dataframe tbody tr th {\n",
       "        vertical-align: top;\n",
       "    }\n",
       "\n",
       "    .dataframe thead th {\n",
       "        text-align: right;\n",
       "    }\n",
       "</style>\n",
       "<table border=\"1\" class=\"dataframe\">\n",
       "  <thead>\n",
       "    <tr style=\"text-align: right;\">\n",
       "      <th></th>\n",
       "      <th>img</th>\n",
       "    </tr>\n",
       "  </thead>\n",
       "  <tbody>\n",
       "    <tr>\n",
       "      <th>8</th>\n",
       "      <td>../../aia193_images\\20200210_234500.jpg</td>\n",
       "    </tr>\n",
       "    <tr>\n",
       "      <th>9</th>\n",
       "      <td>../../aia193_images\\20200211_234500.jpg</td>\n",
       "    </tr>\n",
       "  </tbody>\n",
       "</table>\n",
       "</div>"
      ],
      "text/plain": [
       "                                       img\n",
       "8  ../../aia193_images\\20200210_234500.jpg\n",
       "9  ../../aia193_images\\20200211_234500.jpg"
      ]
     },
     "execution_count": 24,
     "metadata": {},
     "output_type": "execute_result"
    }
   ],
   "source": [
    "ids"
   ]
  },
  {
   "cell_type": "markdown",
   "metadata": {},
   "source": [
    "If the `batch_size` does not divide the dataset size, we can either drop incomplete chunks or return incomplete last chunk:"
   ]
  },
  {
   "cell_type": "code",
   "execution_count": 25,
   "metadata": {},
   "outputs": [
    {
     "name": "stdout",
     "output_type": "stream",
     "text": [
      "Only complete batches are sampled:\n",
      "[0 1 2 3]\n",
      "[4 5 6 7]\n",
      "Keep incomplete batches as well:\n",
      "[0 1 2 3]\n",
      "[4 5 6 7]\n",
      "[8 9]\n"
     ]
    }
   ],
   "source": [
    "print('Only complete batches are sampled:')\n",
    "sampler = BatchSampler(index, batch_size=4, drop_incomplete=True)\n",
    "for ids in sampler:\n",
    "    print(ids.indices)\n",
    "print('Keep incomplete batches as well:')\n",
    "sampler = BatchSampler(index, batch_size=4, drop_incomplete=False)\n",
    "for ids in sampler:\n",
    "    print(ids.indices)"
   ]
  },
  {
   "cell_type": "markdown",
   "metadata": {},
   "source": [
    "There is an option to shuffle data before iterations:"
   ]
  },
  {
   "cell_type": "code",
   "execution_count": 26,
   "metadata": {},
   "outputs": [
    {
     "name": "stdout",
     "output_type": "stream",
     "text": [
      "[3 7 4 2]\n",
      "[9 8 1 5]\n",
      "[9 0]\n"
     ]
    }
   ],
   "source": [
    "sampler = BatchSampler(index, batch_size=4, shuffle=True, drop_incomplete=False)\n",
    "for ids in sampler:\n",
    "    print(ids.indices)"
   ]
  },
  {
   "cell_type": "markdown",
   "metadata": {},
   "source": [
    "Finally, we can iterate the dataset many times (epochs) and shuffle data each new epoch:"
   ]
  },
  {
   "cell_type": "code",
   "execution_count": 27,
   "metadata": {},
   "outputs": [
    {
     "name": "stdout",
     "output_type": "stream",
     "text": [
      "Epoch 0 Indices: [0 2 3 1]\n",
      "Epoch 0 Indices: [5 8 9 7]\n",
      "Epoch 1 Indices: [0 6 2 8]\n",
      "Epoch 1 Indices: [4 5 9 3]\n",
      "Epoch 2 Indices: [3 7 1 4]\n",
      "Epoch 2 Indices: [5 8 9 0]\n"
     ]
    }
   ],
   "source": [
    "sampler = BatchSampler(index, n_epochs=3, batch_size=4, shuffle=True, drop_incomplete=True)\n",
    "for ids in sampler:\n",
    "    print(\"Epoch\", sampler._on_epoch, \"Indices:\", ids.indices)"
   ]
  },
  {
   "cell_type": "markdown",
   "metadata": {},
   "source": [
    "## Batch \n",
    "\n",
    "`HelioBatch` provides a unified framework for data storing and processing. First we use index to specify data subset to be processed:"
   ]
  },
  {
   "cell_type": "code",
   "execution_count": 28,
   "metadata": {},
   "outputs": [
    {
     "data": {
      "text/html": [
       "<div>\n",
       "<style scoped>\n",
       "    .dataframe tbody tr th:only-of-type {\n",
       "        vertical-align: middle;\n",
       "    }\n",
       "\n",
       "    .dataframe tbody tr th {\n",
       "        vertical-align: top;\n",
       "    }\n",
       "\n",
       "    .dataframe thead th {\n",
       "        text-align: right;\n",
       "    }\n",
       "</style>\n",
       "<table border=\"1\" class=\"dataframe\">\n",
       "  <thead>\n",
       "    <tr style=\"text-align: right;\">\n",
       "      <th></th>\n",
       "      <th>img</th>\n",
       "    </tr>\n",
       "    <tr>\n",
       "      <th>FilesIndex</th>\n",
       "      <th></th>\n",
       "    </tr>\n",
       "  </thead>\n",
       "  <tbody>\n",
       "    <tr>\n",
       "      <th>20200202_234500</th>\n",
       "      <td>../../aia193_images\\20200202_234500.jpg</td>\n",
       "    </tr>\n",
       "    <tr>\n",
       "      <th>20200203_234500</th>\n",
       "      <td>../../aia193_images\\20200203_234500.jpg</td>\n",
       "    </tr>\n",
       "    <tr>\n",
       "      <th>20200204_234500</th>\n",
       "      <td>../../aia193_images\\20200204_234500.jpg</td>\n",
       "    </tr>\n",
       "    <tr>\n",
       "      <th>20200205_234500</th>\n",
       "      <td>../../aia193_images\\20200205_234500.jpg</td>\n",
       "    </tr>\n",
       "    <tr>\n",
       "      <th>20200206_234500</th>\n",
       "      <td>../../aia193_images\\20200206_234500.jpg</td>\n",
       "    </tr>\n",
       "  </tbody>\n",
       "</table>\n",
       "</div>"
      ],
      "text/plain": [
       "                                                     img\n",
       "FilesIndex                                              \n",
       "20200202_234500  ../../aia193_images\\20200202_234500.jpg\n",
       "20200203_234500  ../../aia193_images\\20200203_234500.jpg\n",
       "20200204_234500  ../../aia193_images\\20200204_234500.jpg\n",
       "20200205_234500  ../../aia193_images\\20200205_234500.jpg\n",
       "20200206_234500  ../../aia193_images\\20200206_234500.jpg"
      ]
     },
     "execution_count": 28,
     "metadata": {},
     "output_type": "execute_result"
    }
   ],
   "source": [
    "index = FilesIndex(img='../../aia193_images/*.jpg') \n",
    "index.head()"
   ]
  },
  {
   "cell_type": "markdown",
   "metadata": {},
   "source": [
    "Then we define a batch:"
   ]
  },
  {
   "cell_type": "code",
   "execution_count": 29,
   "metadata": {},
   "outputs": [],
   "source": [
    "from helio import HelioBatch\n",
    "\n",
    "batch = HelioBatch(index)"
   ]
  },
  {
   "cell_type": "markdown",
   "metadata": {},
   "source": [
    "At this moment batch is empty. Use load to get data specified with index: "
   ]
  },
  {
   "cell_type": "code",
   "execution_count": 30,
   "metadata": {},
   "outputs": [
    {
     "data": {
      "text/plain": [
       "<helio.core.batch.HelioBatch at 0x192fe5f44a8>"
      ]
     },
     "execution_count": 30,
     "metadata": {},
     "output_type": "execute_result"
    }
   ],
   "source": [
    "batch.load(src='img')"
   ]
  },
  {
   "cell_type": "markdown",
   "metadata": {},
   "source": [
    "Now dataset items can be accessed by `img` attribute: "
   ]
  },
  {
   "cell_type": "code",
   "execution_count": 31,
   "metadata": {},
   "outputs": [
    {
     "data": {
      "text/plain": [
       "(1024, 1024, 3)"
      ]
     },
     "execution_count": 31,
     "metadata": {},
     "output_type": "execute_result"
    }
   ],
   "source": [
    "batch.img[2].shape"
   ]
  },
  {
   "cell_type": "markdown",
   "metadata": {},
   "source": [
    "To be more detailed, batch has two main attributes: data and meta. Data contains the main content, while meta keeps additional information. So one can access data in a second way:"
   ]
  },
  {
   "cell_type": "code",
   "execution_count": 32,
   "metadata": {},
   "outputs": [
    {
     "data": {
      "text/plain": [
       "(1024, 1024, 3)"
      ]
     },
     "execution_count": 32,
     "metadata": {},
     "output_type": "execute_result"
    }
   ],
   "source": [
    "batch.data['img'][2].shape"
   ]
  },
  {
   "cell_type": "markdown",
   "metadata": {},
   "source": [
    "However, meta imformation for `.jpeg` data is empty:"
   ]
  },
  {
   "cell_type": "code",
   "execution_count": 33,
   "metadata": {},
   "outputs": [
    {
     "data": {
      "text/plain": [
       "{}"
      ]
     },
     "execution_count": 33,
     "metadata": {},
     "output_type": "execute_result"
    }
   ],
   "source": [
    "batch.meta['img'][2]"
   ]
  },
  {
   "cell_type": "markdown",
   "metadata": {},
   "source": [
    "In contrast, loading data from e.g. `.fits` files we can read fits header into batch meta: "
   ]
  },
  {
   "cell_type": "code",
   "execution_count": 34,
   "metadata": {},
   "outputs": [
    {
     "name": "stderr",
     "output_type": "stream",
     "text": [
      "WARNING: VerifyWarning: Verification reported errors: [astropy.io.fits.verify]\n",
      "WARNING: VerifyWarning: HDU 1: [astropy.io.fits.verify]\n",
      "WARNING: VerifyWarning:     Card 63: [astropy.io.fits.verify]\n",
      "WARNING: VerifyWarning:         Card 'OSCNMEAN' is not FITS standard (invalid value string: '-nan').  Fixed 'OSCNMEAN' card to meet the FITS standard. [astropy.io.fits.verify]\n",
      "WARNING: VerifyWarning:     Card 64: [astropy.io.fits.verify]\n",
      "WARNING: VerifyWarning:         Card 'OSCNRMS' is not FITS standard (invalid value string: '-nan').  Fixed 'OSCNRMS' card to meet the FITS standard. [astropy.io.fits.verify]\n",
      "WARNING: VerifyWarning: Note: astropy.io.fits uses zero-based indexing.\n",
      " [astropy.io.fits.verify]\n"
     ]
    }
   ],
   "source": [
    "index = FilesIndex(img='../../aia193_fits/*fits').iloc[:5]\n",
    "batch = HelioBatch(index).load(src='img', unit=1, meta='img')"
   ]
  },
  {
   "cell_type": "markdown",
   "metadata": {},
   "source": [
    "and access some headers:"
   ]
  },
  {
   "cell_type": "code",
   "execution_count": 35,
   "metadata": {},
   "outputs": [
    {
     "data": {
      "text/plain": [
       "('2018-12-22T23:44:29.84Z', 1624.316162)"
      ]
     },
     "execution_count": 35,
     "metadata": {},
     "output_type": "execute_result"
    }
   ],
   "source": [
    "batch.meta['img'][2]['T_OBS'], batch.meta['img'][2]['R_SUN']"
   ]
  },
  {
   "cell_type": "markdown",
   "metadata": {},
   "source": [
    "Some batch methods add meta information. For example, estimation of solar disk radius:"
   ]
  },
  {
   "cell_type": "code",
   "execution_count": 36,
   "metadata": {},
   "outputs": [
    {
     "data": {
      "text/plain": [
       "array([{'i_cen': 512, 'j_cen': 512, 'r': 408},\n",
       "       {'i_cen': 511, 'j_cen': 512, 'r': 408},\n",
       "       {'i_cen': 512, 'j_cen': 511, 'r': 408},\n",
       "       {'i_cen': 512, 'j_cen': 512, 'r': 407},\n",
       "       {'i_cen': 512, 'j_cen': 512, 'r': 407}], dtype=object)"
      ]
     },
     "execution_count": 36,
     "metadata": {},
     "output_type": "execute_result"
    }
   ],
   "source": [
    "import numpy as np\n",
    "\n",
    "index = FilesIndex(img='../../aia193_images/*jpg').iloc[:5]\n",
    "batch = HelioBatch(index).load(src='img', as_gray=True)\n",
    "batch.get_radius(src='img', hough_radii=np.arange(390, 420))\n",
    "batch.meta['img']"
   ]
  },
  {
   "cell_type": "markdown",
   "metadata": {},
   "source": [
    "Now consider working with batch methods. Most methods have `scr` and `dst` parameters which specify where to get data and where to write the results. If `dst` attribute does not exists, it will be created. If `dst` is not given, it is assumed that `dst`=`src`. Also one can explicitly set the same values to `src` and `dst` for inplace operation. For example consider image resize. The results will be aritten to a new attribute: "
   ]
  },
  {
   "cell_type": "code",
   "execution_count": 37,
   "metadata": {},
   "outputs": [
    {
     "data": {
      "text/plain": [
       "<helio.core.batch.HelioBatch at 0x192fe6c74e0>"
      ]
     },
     "execution_count": 37,
     "metadata": {},
     "output_type": "execute_result"
    }
   ],
   "source": [
    "batch.resize(src='img', dst='img_small', output_shape=(256, 256), preserve_range=True)"
   ]
  },
  {
   "cell_type": "markdown",
   "metadata": {},
   "source": [
    "New attribute has been created:"
   ]
  },
  {
   "cell_type": "code",
   "execution_count": 38,
   "metadata": {},
   "outputs": [
    {
     "data": {
      "text/plain": [
       "['img', 'img_small']"
      ]
     },
     "execution_count": 38,
     "metadata": {},
     "output_type": "execute_result"
    }
   ],
   "source": [
    "batch.attributes"
   ]
  },
  {
   "cell_type": "markdown",
   "metadata": {},
   "source": [
    "It contains resized data while original data are not lost:"
   ]
  },
  {
   "cell_type": "code",
   "execution_count": 39,
   "metadata": {},
   "outputs": [
    {
     "data": {
      "text/plain": [
       "((1024, 1024), (256, 256))"
      ]
     },
     "execution_count": 39,
     "metadata": {},
     "output_type": "execute_result"
    }
   ],
   "source": [
    "batch.img[0].shape, batch.img_small[0].shape"
   ]
  },
  {
   "cell_type": "markdown",
   "metadata": {},
   "source": [
    "For inplace operations we do not specify `dst`:"
   ]
  },
  {
   "cell_type": "code",
   "execution_count": 40,
   "metadata": {},
   "outputs": [
    {
     "data": {
      "text/plain": [
       "(64, 64)"
      ]
     },
     "execution_count": 40,
     "metadata": {},
     "output_type": "execute_result"
    }
   ],
   "source": [
    "batch.resize(src='img', output_shape=(64, 64), preserve_range=True)\n",
    "batch.img[0].shape"
   ]
  },
  {
   "cell_type": "markdown",
   "metadata": {},
   "source": [
    "Each batch method returns batch instance. This implies one can orginize methods chaining:"
   ]
  },
  {
   "cell_type": "code",
   "execution_count": 41,
   "metadata": {},
   "outputs": [
    {
     "data": {
      "text/plain": [
       "<helio.core.batch.HelioBatch at 0x192fe6c7400>"
      ]
     },
     "execution_count": 41,
     "metadata": {},
     "output_type": "execute_result"
    }
   ],
   "source": [
    "(HelioBatch(index).load(src='img', as_gray=True)\n",
    " .get_radius(src='img', hough_radii=np.arange(390, 420))\n",
    " .resize(src='img', output_shape=(256, 256), preserve_range=True))"
   ]
  },
  {
   "cell_type": "markdown",
   "metadata": {},
   "source": [
    "In a combination with `BatchSampler` one can easiliy organize iterative dataset processing:"
   ]
  },
  {
   "cell_type": "code",
   "execution_count": 42,
   "metadata": {},
   "outputs": [
    {
     "name": "stderr",
     "output_type": "stream",
     "text": [
      "100%|████████████████████████████████████████████████████████████████| 3/3 [01:26<00:00, 28.92s/it]\n"
     ]
    }
   ],
   "source": [
    "from tqdm import tqdm\n",
    "\n",
    "index = FilesIndex(img='../../aia193_images/*jpg').iloc[:10]\n",
    "sampler = BatchSampler(index, n_epochs=1, batch_size=4, shuffle=False, drop_incomplete=False)\n",
    "\n",
    "for ids in tqdm(sampler):\n",
    "    (HelioBatch(ids).load(src='img', as_gray=True)\n",
    "     .get_radius(src='img', hough_radii=np.arange(390, 420))\n",
    "     .resize(src='img', output_shape=(256, 256), preserve_range=True)\n",
    "     .dump(src='img', path='./tmp/', format='npz'))"
   ]
  },
  {
   "cell_type": "markdown",
   "metadata": {},
   "source": [
    "To learn more about `HelioBatch` methods see the [documentation](http://observethesun.github.io/helio/)."
   ]
  },
  {
   "cell_type": "markdown",
   "metadata": {},
   "source": [
    "Done!"
   ]
  }
 ],
 "metadata": {
  "anaconda-cloud": {},
  "kernelspec": {
   "display_name": "Python 3",
   "language": "python",
   "name": "python3"
  },
  "language_info": {
   "codemirror_mode": {
    "name": "ipython",
    "version": 3
   },
   "file_extension": ".py",
   "mimetype": "text/x-python",
   "name": "python",
   "nbconvert_exporter": "python",
   "pygments_lexer": "ipython3",
   "version": "3.7.0"
  }
 },
 "nbformat": 4,
 "nbformat_minor": 2
}
