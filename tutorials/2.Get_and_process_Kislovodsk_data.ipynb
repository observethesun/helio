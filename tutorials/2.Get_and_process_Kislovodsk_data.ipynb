{
 "cells": [
  {
   "cell_type": "markdown",
   "metadata": {},
   "source": [
    "## Getting contours of active regions \n",
    "\n",
    "Archive of the Kislovodsk Mountain Astronomical Station contains long-term series of various active regions. You can investigate them visually at [https://observethesun.com/](https://observethesun.com/). The function ```get_kislovodsk_data``` downloads the contours of the active ragions to your computer as numerical arrays so that you can work with them.\n",
    "\n",
    "If you have no time to read the further instructions, just run the code below to get the data:"
   ]
  },
  {
   "cell_type": "code",
   "execution_count": 1,
   "metadata": {},
   "outputs": [
    {
     "name": "stderr",
     "output_type": "stream",
     "text": [
      "100%|████████████████████████████████████████████████████████████████████████████████████| 3/3 [00:50<00:00, 16.86s/it]\n"
     ]
    }
   ],
   "source": [
    "import sys\n",
    "sys.path.append(\"..\")\n",
    "import warnings\n",
    "warnings.filterwarnings('ignore') #to ignore the astropy warnings\n",
    "\n",
    "from helio import get_kislovodsk_data\n",
    "\n",
    "get_kislovodsk_data(series='ch', #'spot' for sunspots, 'ca' plages, 'fil' filaments, 'ch' coronal holes\n",
    "                    start_date='2022-12-01', #YYYY-MM-DD\n",
    "                    end_date='2022-12-31', #YYYY-MM-DD\n",
    "                    path='./contours') #set the path to the existing local directory"
   ]
  },
  {
   "cell_type": "markdown",
   "metadata": {},
   "source": [
    "### Description of the data format"
   ]
  },
  {
   "cell_type": "markdown",
   "metadata": {},
   "source": [
    "There are four types of active regions available in the archive and you have to indicate one of them as the first parameter of the function:\n",
    "* sunspots (series='SPOT')\n",
    "* filaments (series='FIL')\n",
    "* plages (series='CA')\n",
    "* coronal holes (series='CH')\n",
    "\n",
    "The parameters ```start_date``` and ```end_date``` limit the time series to the given dates, for example, to get data for the whole year 2022 set ```start_date='2022-01-01'``` and ```end_date='2022-12-31'```.\n",
    "\n",
    "One more required parameter is the ```path```  to the local directory where the files will be stored.\n",
    "\n",
    "Run the function and once the process is completed, you will find a number of files in ```.json``` format that contain controus and some additional parameters of active regions. The ```.json``` files have the following structure:\n",
    "\n",
    "```python\n",
    "{'data': [{'vetrtices': [[lat_1, lon_1], [lat_2, lon_2], ..., [lat_n, lon_n]],\n",
    "           'area': area,\n",
    "           'area_units': 'millionth of the solar hemisphere',\n",
    "           'perimeter': p,\n",
    "           'bbox': (lat_min, lon_min, lat_max, lon_max),\n",
    "           'bbox_center': (lat, lon),\n",
    "           'dlat': dlat,\n",
    "           'dlon', dlon,\n",
    "           'deg': true,\n",
    "           },\n",
    "          {'vetrtices': [[lat_1, lon_1], ...],\n",
    "           ...},\n",
    "          ...,\n",
    "          {'vetrtices': [[lat_1, lon_1], ...],\n",
    "           ...}]\n",
    "}\n",
    " ```\n",
    " \n",
    "The key `data` contains a list of active regions. Each active region is represented by a list of polygon vertices. Note that the first and the last vertices are the always same. Then we have a number of paramerets of active region:\n",
    "* area in millionth of the solar hemisphere\n",
    "* perimeter in radians\n",
    "* bounding box\n",
    "* the center of the bounding box\n",
    "* latitudinal extent (`dlat`)\n",
    "* longitudinal extent (`dlon`)\n",
    "* angle units (degrees)"
   ]
  },
  {
   "cell_type": "markdown",
   "metadata": {},
   "source": [
    "In Python, one can read these json files as simple as\n",
    "```python\n",
    "import json\n",
    "\n",
    "with open('path/to/file.json') as f:\n",
    "    data = json.load(f)['data']\n",
    "```\n",
    "however, below we show a more useful approach."
   ]
  },
  {
   "cell_type": "markdown",
   "metadata": {},
   "source": [
    "### Data processing with the `helio` framework"
   ]
  },
  {
   "cell_type": "markdown",
   "metadata": {},
   "source": [
    "Before reading further, we recommend reading the previous tutorial [1.Basic_concepts.ipynb](1.Basic_concepts.ipynb) to learn the basic concepts of the `helio` framework. We start with\n",
    "indexing of the files that should be processed:"
   ]
  },
  {
   "cell_type": "code",
   "execution_count": 2,
   "metadata": {},
   "outputs": [
    {
     "data": {
      "text/html": [
       "<div>\n",
       "<style scoped>\n",
       "    .dataframe tbody tr th:only-of-type {\n",
       "        vertical-align: middle;\n",
       "    }\n",
       "\n",
       "    .dataframe tbody tr th {\n",
       "        vertical-align: top;\n",
       "    }\n",
       "\n",
       "    .dataframe thead th {\n",
       "        text-align: right;\n",
       "    }\n",
       "</style>\n",
       "<table border=\"1\" class=\"dataframe\">\n",
       "  <thead>\n",
       "    <tr style=\"text-align: right;\">\n",
       "      <th></th>\n",
       "      <th>CH</th>\n",
       "      <th>DateTime</th>\n",
       "      <th>L0</th>\n",
       "      <th>B0</th>\n",
       "      <th>CR</th>\n",
       "    </tr>\n",
       "    <tr>\n",
       "      <th>FilesIndex</th>\n",
       "      <th></th>\n",
       "      <th></th>\n",
       "      <th></th>\n",
       "      <th></th>\n",
       "      <th></th>\n",
       "    </tr>\n",
       "  </thead>\n",
       "  <tbody>\n",
       "    <tr>\n",
       "      <th>CH_2022-12-01T040416</th>\n",
       "      <td>./contours\\CH_2022-12-01T040416.json</td>\n",
       "      <td>2022-12-01 04:04:16</td>\n",
       "      <td>51.159587</td>\n",
       "      <td>0.897323</td>\n",
       "      <td>2264</td>\n",
       "    </tr>\n",
       "    <tr>\n",
       "      <th>CH_2022-12-02T034916</th>\n",
       "      <td>./contours\\CH_2022-12-02T034916.json</td>\n",
       "      <td>2022-12-02 03:49:16</td>\n",
       "      <td>38.117945</td>\n",
       "      <td>0.771540</td>\n",
       "      <td>2264</td>\n",
       "    </tr>\n",
       "    <tr>\n",
       "      <th>CH_2022-12-03T031916</th>\n",
       "      <td>./contours\\CH_2022-12-03T031916.json</td>\n",
       "      <td>2022-12-03 03:19:16</td>\n",
       "      <td>25.213760</td>\n",
       "      <td>0.646815</td>\n",
       "      <td>2264</td>\n",
       "    </tr>\n",
       "    <tr>\n",
       "      <th>CH_2022-12-04T050428</th>\n",
       "      <td>./contours\\CH_2022-12-04T050428.json</td>\n",
       "      <td>2022-12-04 05:04:28</td>\n",
       "      <td>11.072453</td>\n",
       "      <td>0.509875</td>\n",
       "      <td>2264</td>\n",
       "    </tr>\n",
       "    <tr>\n",
       "      <th>CH_2022-12-05T031916</th>\n",
       "      <td>./contours\\CH_2022-12-05T031916.json</td>\n",
       "      <td>2022-12-05 03:19:16</td>\n",
       "      <td>358.856869</td>\n",
       "      <td>0.391401</td>\n",
       "      <td>2265</td>\n",
       "    </tr>\n",
       "  </tbody>\n",
       "</table>\n",
       "</div>"
      ],
      "text/plain": [
       "                                                        CH  \\\n",
       "FilesIndex                                                   \n",
       "CH_2022-12-01T040416  ./contours\\CH_2022-12-01T040416.json   \n",
       "CH_2022-12-02T034916  ./contours\\CH_2022-12-02T034916.json   \n",
       "CH_2022-12-03T031916  ./contours\\CH_2022-12-03T031916.json   \n",
       "CH_2022-12-04T050428  ./contours\\CH_2022-12-04T050428.json   \n",
       "CH_2022-12-05T031916  ./contours\\CH_2022-12-05T031916.json   \n",
       "\n",
       "                                DateTime          L0        B0    CR  \n",
       "FilesIndex                                                            \n",
       "CH_2022-12-01T040416 2022-12-01 04:04:16   51.159587  0.897323  2264  \n",
       "CH_2022-12-02T034916 2022-12-02 03:49:16   38.117945  0.771540  2264  \n",
       "CH_2022-12-03T031916 2022-12-03 03:19:16   25.213760  0.646815  2264  \n",
       "CH_2022-12-04T050428 2022-12-04 05:04:28   11.072453  0.509875  2264  \n",
       "CH_2022-12-05T031916 2022-12-05 03:19:16  358.856869  0.391401  2265  "
      ]
     },
     "execution_count": 2,
     "metadata": {},
     "output_type": "execute_result"
    }
   ],
   "source": [
    "import sys\n",
    "sys.path.append(\"..\")\n",
    "\n",
    "from helio import FilesIndex, HelioBatch\n",
    "\n",
    "index = (FilesIndex(path='./contours/*', name='CH')\n",
    "         .parse_datetime()\n",
    "         .get_sun_params())\n",
    "index.head()"
   ]
  },
  {
   "cell_type": "markdown",
   "metadata": {},
   "source": [
    "Now one can read all files using the `HelioBatch.load()` method.\n",
    "Note that for a large collection of files, reading all the files at once may run out of memory. In this case, we recommend iterating over a list of files with small subsets of files using `BatchSampler`. At the end of this tutorial you will find an example usage.\n"
   ]
  },
  {
   "cell_type": "code",
   "execution_count": 3,
   "metadata": {},
   "outputs": [],
   "source": [
    "batch = HelioBatch(index).load(src='CH')"
   ]
  },
  {
   "cell_type": "markdown",
   "metadata": {},
   "source": [
    "Now each file with a list of active regions is stored in batch items. For example, the first batch item contains three active regions: "
   ]
  },
  {
   "cell_type": "code",
   "execution_count": 4,
   "metadata": {},
   "outputs": [
    {
     "data": {
      "text/plain": [
       "[<helio.core.polygon.SphericalPolygon at 0x183b05a6a20>,\n",
       " <helio.core.polygon.SphericalPolygon at 0x183b05a6b00>,\n",
       " <helio.core.polygon.SphericalPolygon at 0x183b05a6f98>]"
      ]
     },
     "execution_count": 4,
     "metadata": {},
     "output_type": "execute_result"
    }
   ],
   "source": [
    "batch.CH[0]"
   ]
  },
  {
   "cell_type": "markdown",
   "metadata": {},
   "source": [
    "One can access vertices of each polygon:"
   ]
  },
  {
   "cell_type": "code",
   "execution_count": 5,
   "metadata": {},
   "outputs": [
    {
     "data": {
      "text/plain": [
       "array([[  8.84, 358.88],\n",
       "       [  8.85, 359.11],\n",
       "       [  8.99, 359.09],\n",
       "       ...,\n",
       "       [  8.56, 358.94],\n",
       "       [  8.7 , 358.91],\n",
       "       [  8.84, 358.88]])"
      ]
     },
     "execution_count": 5,
     "metadata": {},
     "output_type": "execute_result"
    }
   ],
   "source": [
    "batch.CH[0][0].vertices"
   ]
  },
  {
   "cell_type": "markdown",
   "metadata": {},
   "source": [
    "One can also get parameters of each polygon:"
   ]
  },
  {
   "cell_type": "code",
   "execution_count": 6,
   "metadata": {},
   "outputs": [
    {
     "name": "stdout",
     "output_type": "stream",
     "text": [
      "Area 6373.338136039191\n",
      "Perimeter 1.4865861092727308\n",
      "bbox (-4.04, 359.97, 16.11, 0.13)\n",
      "bbox center (6.035, 0.05000000000001137)\n",
      "dlat 20.15\n",
      "dlon 0.15999999999996817\n"
     ]
    }
   ],
   "source": [
    "poly = batch.CH[0][0]\n",
    "print('Area', poly.area)\n",
    "print('Perimeter', poly.perimeter)\n",
    "print('bbox', poly.bbox)\n",
    "print('bbox center', poly.bbox_center)\n",
    "print('dlat', poly.dlat)\n",
    "print('dlon', poly.dlon)"
   ]
  },
  {
   "cell_type": "markdown",
   "metadata": {},
   "source": [
    "Below we show how to plot the contours of active regions. For illustration, we show three successive\n",
    "days and use different colors for each day:"
   ]
  },
  {
   "cell_type": "code",
   "execution_count": 7,
   "metadata": {},
   "outputs": [
    {
     "data": {
      "text/plain": [
       "<AxesSubplot:>"
      ]
     },
     "execution_count": 7,
     "metadata": {},
     "output_type": "execute_result"
    },
    {
     "data": {
      "image/png": "[encoded data removed]",
      "text/plain": [
       "<Figure size 432x288 with 1 Axes>"
      ]
     },
     "metadata": {},
     "output_type": "display_data"
    }
   ],
   "source": [
    "# %matplotlib notebook # uncomment this line to enable the interactive plot\n",
    "i = 0 # positional index of batch item to show\n",
    "ax = batch.show_sun('CH', i)\n",
    "batch.show_sun('CH', i+1, c='r', ax=ax)\n",
    "batch.show_sun('CH', i+2, c='g', ax=ax)"
   ]
  },
  {
   "cell_type": "markdown",
   "metadata": {},
   "source": [
    "Next step is to process each file to collect total area and perimeter for each day.\n",
    "Here we use `BatchSampler` to iterate over a possible large list of files with small subsets of files (``batch_size=10``). At each iteration we read the next subset of files and collect total area and perimeter in each file. The total values are accumulated in the pandas DataFrame."
   ]
  },
  {
   "cell_type": "code",
   "execution_count": 8,
   "metadata": {},
   "outputs": [
    {
     "data": {
      "text/html": [
       "<div>\n",
       "<style scoped>\n",
       "    .dataframe tbody tr th:only-of-type {\n",
       "        vertical-align: middle;\n",
       "    }\n",
       "\n",
       "    .dataframe tbody tr th {\n",
       "        vertical-align: top;\n",
       "    }\n",
       "\n",
       "    .dataframe thead th {\n",
       "        text-align: right;\n",
       "    }\n",
       "</style>\n",
       "<table border=\"1\" class=\"dataframe\">\n",
       "  <thead>\n",
       "    <tr style=\"text-align: right;\">\n",
       "      <th></th>\n",
       "      <th>Date</th>\n",
       "      <th>Area</th>\n",
       "      <th>Perimeter</th>\n",
       "    </tr>\n",
       "  </thead>\n",
       "  <tbody>\n",
       "    <tr>\n",
       "      <th>0</th>\n",
       "      <td>2022-12-01 04:04:16</td>\n",
       "      <td>23169.6</td>\n",
       "      <td>5.61142</td>\n",
       "    </tr>\n",
       "    <tr>\n",
       "      <th>1</th>\n",
       "      <td>2022-12-02 03:49:16</td>\n",
       "      <td>32735.6</td>\n",
       "      <td>8.82354</td>\n",
       "    </tr>\n",
       "    <tr>\n",
       "      <th>2</th>\n",
       "      <td>2022-12-03 03:19:16</td>\n",
       "      <td>32718.7</td>\n",
       "      <td>5.89684</td>\n",
       "    </tr>\n",
       "    <tr>\n",
       "      <th>3</th>\n",
       "      <td>2022-12-04 05:04:28</td>\n",
       "      <td>37745.4</td>\n",
       "      <td>7.3037</td>\n",
       "    </tr>\n",
       "    <tr>\n",
       "      <th>4</th>\n",
       "      <td>2022-12-05 03:19:16</td>\n",
       "      <td>33944.4</td>\n",
       "      <td>7.5722</td>\n",
       "    </tr>\n",
       "  </tbody>\n",
       "</table>\n",
       "</div>"
      ],
      "text/plain": [
       "                 Date     Area Perimeter\n",
       "0 2022-12-01 04:04:16  23169.6   5.61142\n",
       "1 2022-12-02 03:49:16  32735.6   8.82354\n",
       "2 2022-12-03 03:19:16  32718.7   5.89684\n",
       "3 2022-12-04 05:04:28  37745.4    7.3037\n",
       "4 2022-12-05 03:19:16  33944.4    7.5722"
      ]
     },
     "execution_count": 8,
     "metadata": {},
     "output_type": "execute_result"
    }
   ],
   "source": [
    "from helio import BatchSampler\n",
    "import pandas as pd\n",
    "\n",
    "sampler = BatchSampler(index, batch_size=10)\n",
    "dfs = []\n",
    "for ids in sampler:\n",
    "    batch = HelioBatch(ids).load(src='CH')\n",
    "    batch.apply(lambda item: sum(poly.area for poly in item), src='CH', dst='area')\n",
    "    batch.apply(lambda item: sum(poly.perimeter for poly in item), src='CH', dst='perim')\n",
    "    dfs.append(pd.DataFrame(dict(Date=ids.DateTime.values,\n",
    "                                 Area=batch.area,\n",
    "                                 Perimeter=batch.perim)))\n",
    "df = pd.concat(dfs)\n",
    "df.head()"
   ]
  },
  {
   "cell_type": "markdown",
   "metadata": {},
   "source": [
    "Now we can plot e.g. the variation of the total area of active regions:"
   ]
  },
  {
   "cell_type": "code",
   "execution_count": 9,
   "metadata": {},
   "outputs": [
    {
     "data": {
      "text/plain": [
       "<AxesSubplot:xlabel='Date', ylabel='MSH'>"
      ]
     },
     "execution_count": 9,
     "metadata": {},
     "output_type": "execute_result"
    },
    {
     "data": {
      "image/png": "[encoded data removed]",
      "text/plain": [
       "<Figure size 432x288 with 1 Axes>"
      ]
     },
     "metadata": {
      "needs_background": "light"
     },
     "output_type": "display_data"
    }
   ],
   "source": [
    "df.plot(x='Date', y='Area', ylabel='MSH')"
   ]
  },
  {
   "cell_type": "markdown",
   "metadata": {},
   "source": [
    "In the next tutorials we will show more advanced data processing tools."
   ]
  }
 ],
 "metadata": {
  "kernelspec": {
   "display_name": "Python 3",
   "language": "python",
   "name": "python3"
  },
  "language_info": {
   "codemirror_mode": {
    "name": "ipython",
    "version": 3
   },
   "file_extension": ".py",
   "mimetype": "text/x-python",
   "name": "python",
   "nbconvert_exporter": "python",
   "pygments_lexer": "ipython3",
   "version": "3.7.0"
  }
 },
 "nbformat": 4,
 "nbformat_minor": 2
}
