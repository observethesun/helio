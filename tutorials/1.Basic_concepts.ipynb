{
 "cells": [
  {
   "cell_type": "markdown",
   "metadata": {},
   "source": [
    "# Basic concepts\n",
    "\n",
    "This notebook explains the basic concepts of the `helio` framework\n",
    "* [`FilesIndex`](#FilesIndex)\n",
    "* [`BatchSampler`](#BatchSampler)\n",
    "* [`Batch`](#Batch)\n",
    "\n",
    "and gives usage examples."
   ]
  },
  {
   "cell_type": "markdown",
   "metadata": {},
   "source": [
    "## FilesIndex"
   ]
  },
  {
   "cell_type": "markdown",
   "metadata": {},
   "source": [
    "Usually datasets are large sets of files. Each dataset item can be represented by a single file (e.g. an image) or multiple files (e.g. an image and the corresponding binary mask). `FilesIndex` provides a convenient way to enumerate dataset items as well as to sort, split and filter datasets. Moreover, `FilesIndex` is based on the `pandas.DataFrame` and supports all its features and methods.\n",
    "\n",
    "To create a `FilesIndex` you need to specify the path to the files to be indexed and give a name to the file set. For illustration, we will work with a set of `.fits` files downloaded from [http://jsoc.stanford.edu/](http://jsoc.stanford.edu/). Let's index all files in the directory `aia193_fits` with the file extension `.fits`. The reference name for this set will be `img`:"
   ]
  },
  {
   "cell_type": "code",
   "execution_count": 1,
   "metadata": {},
   "outputs": [
    {
     "data": {
      "text/html": [
       "<div>\n",
       "<style scoped>\n",
       "    .dataframe tbody tr th:only-of-type {\n",
       "        vertical-align: middle;\n",
       "    }\n",
       "\n",
       "    .dataframe tbody tr th {\n",
       "        vertical-align: top;\n",
       "    }\n",
       "\n",
       "    .dataframe thead th {\n",
       "        text-align: right;\n",
       "    }\n",
       "</style>\n",
       "<table border=\"1\" class=\"dataframe\">\n",
       "  <thead>\n",
       "    <tr style=\"text-align: right;\">\n",
       "      <th></th>\n",
       "      <th>img</th>\n",
       "    </tr>\n",
       "    <tr>\n",
       "      <th>FilesIndex</th>\n",
       "      <th></th>\n",
       "    </tr>\n",
       "  </thead>\n",
       "  <tbody>\n",
       "    <tr>\n",
       "      <th>aia.lev1_euv_12s.2018-12-20T234430Z.193.image_lev1</th>\n",
       "      <td>../../aia193_fits\\aia.lev1_euv_12s.2018-12-20T...</td>\n",
       "    </tr>\n",
       "    <tr>\n",
       "      <th>aia.lev1_euv_12s.2018-12-21T234430Z.193.image_lev1</th>\n",
       "      <td>../../aia193_fits\\aia.lev1_euv_12s.2018-12-21T...</td>\n",
       "    </tr>\n",
       "    <tr>\n",
       "      <th>aia.lev1_euv_12s.2018-12-22T234430Z.193.image_lev1</th>\n",
       "      <td>../../aia193_fits\\aia.lev1_euv_12s.2018-12-22T...</td>\n",
       "    </tr>\n",
       "    <tr>\n",
       "      <th>aia.lev1_euv_12s.2018-12-23T234430Z.193.image_lev1</th>\n",
       "      <td>../../aia193_fits\\aia.lev1_euv_12s.2018-12-23T...</td>\n",
       "    </tr>\n",
       "    <tr>\n",
       "      <th>aia.lev1_euv_12s.2018-12-24T234430Z.193.image_lev1</th>\n",
       "      <td>../../aia193_fits\\aia.lev1_euv_12s.2018-12-24T...</td>\n",
       "    </tr>\n",
       "  </tbody>\n",
       "</table>\n",
       "</div>"
      ],
      "text/plain": [
       "                                                                                                  img\n",
       "FilesIndex                                                                                           \n",
       "aia.lev1_euv_12s.2018-12-20T234430Z.193.image_lev1  ../../aia193_fits\\aia.lev1_euv_12s.2018-12-20T...\n",
       "aia.lev1_euv_12s.2018-12-21T234430Z.193.image_lev1  ../../aia193_fits\\aia.lev1_euv_12s.2018-12-21T...\n",
       "aia.lev1_euv_12s.2018-12-22T234430Z.193.image_lev1  ../../aia193_fits\\aia.lev1_euv_12s.2018-12-22T...\n",
       "aia.lev1_euv_12s.2018-12-23T234430Z.193.image_lev1  ../../aia193_fits\\aia.lev1_euv_12s.2018-12-23T...\n",
       "aia.lev1_euv_12s.2018-12-24T234430Z.193.image_lev1  ../../aia193_fits\\aia.lev1_euv_12s.2018-12-24T..."
      ]
     },
     "execution_count": 1,
     "metadata": {},
     "output_type": "execute_result"
    }
   ],
   "source": [
    "import sys\n",
    "sys.path.append(\"..\")\n",
    "import warnings\n",
    "warnings.filterwarnings('ignore') #to ignore the astropy warnings\n",
    "\n",
    "from helio import FilesIndex\n",
    "\n",
    "index = FilesIndex(path='../../aia193_fits/*.fits', name='img')\n",
    "index.head()"
   ]
  },
  {
   "cell_type": "markdown",
   "metadata": {},
   "source": [
    "Now in the column `images` we have paths to the `.fits` files, while the column `FilesIndex` contains filenames (without extension). Since the `index` is a pandas dataframe, we use `head` to show the first items.\n",
    "\n",
    "Let's get the dataset size:"
   ]
  },
  {
   "cell_type": "code",
   "execution_count": 2,
   "metadata": {},
   "outputs": [
    {
     "data": {
      "text/plain": [
       "55"
      ]
     },
     "execution_count": 2,
     "metadata": {},
     "output_type": "execute_result"
    }
   ],
   "source": [
    "len(index)"
   ]
  },
  {
   "cell_type": "markdown",
   "metadata": {},
   "source": [
    "Using the standart methods of the pandas dataframe, one can \n",
    "* select a subset, e.g. with `.iloc`"
   ]
  },
  {
   "cell_type": "code",
   "execution_count": 3,
   "metadata": {},
   "outputs": [
    {
     "data": {
      "text/html": [
       "<div>\n",
       "<style scoped>\n",
       "    .dataframe tbody tr th:only-of-type {\n",
       "        vertical-align: middle;\n",
       "    }\n",
       "\n",
       "    .dataframe tbody tr th {\n",
       "        vertical-align: top;\n",
       "    }\n",
       "\n",
       "    .dataframe thead th {\n",
       "        text-align: right;\n",
       "    }\n",
       "</style>\n",
       "<table border=\"1\" class=\"dataframe\">\n",
       "  <thead>\n",
       "    <tr style=\"text-align: right;\">\n",
       "      <th></th>\n",
       "      <th>img</th>\n",
       "    </tr>\n",
       "    <tr>\n",
       "      <th>FilesIndex</th>\n",
       "      <th></th>\n",
       "    </tr>\n",
       "  </thead>\n",
       "  <tbody>\n",
       "    <tr>\n",
       "      <th>aia.lev1_euv_12s.2018-12-30T234430Z.193.image_lev1</th>\n",
       "      <td>../../aia193_fits\\aia.lev1_euv_12s.2018-12-30T...</td>\n",
       "    </tr>\n",
       "    <tr>\n",
       "      <th>aia.lev1_euv_12s.2018-12-31T234430Z.193.image_lev1</th>\n",
       "      <td>../../aia193_fits\\aia.lev1_euv_12s.2018-12-31T...</td>\n",
       "    </tr>\n",
       "  </tbody>\n",
       "</table>\n",
       "</div>"
      ],
      "text/plain": [
       "                                                                                                  img\n",
       "FilesIndex                                                                                           \n",
       "aia.lev1_euv_12s.2018-12-30T234430Z.193.image_lev1  ../../aia193_fits\\aia.lev1_euv_12s.2018-12-30T...\n",
       "aia.lev1_euv_12s.2018-12-31T234430Z.193.image_lev1  ../../aia193_fits\\aia.lev1_euv_12s.2018-12-31T..."
      ]
     },
     "execution_count": 3,
     "metadata": {},
     "output_type": "execute_result"
    }
   ],
   "source": [
    "index.iloc[10:12]"
   ]
  },
  {
   "cell_type": "markdown",
   "metadata": {},
   "source": [
    "* sort items"
   ]
  },
  {
   "cell_type": "code",
   "execution_count": 4,
   "metadata": {},
   "outputs": [
    {
     "data": {
      "text/html": [
       "<div>\n",
       "<style scoped>\n",
       "    .dataframe tbody tr th:only-of-type {\n",
       "        vertical-align: middle;\n",
       "    }\n",
       "\n",
       "    .dataframe tbody tr th {\n",
       "        vertical-align: top;\n",
       "    }\n",
       "\n",
       "    .dataframe thead th {\n",
       "        text-align: right;\n",
       "    }\n",
       "</style>\n",
       "<table border=\"1\" class=\"dataframe\">\n",
       "  <thead>\n",
       "    <tr style=\"text-align: right;\">\n",
       "      <th></th>\n",
       "      <th>img</th>\n",
       "    </tr>\n",
       "    <tr>\n",
       "      <th>FilesIndex</th>\n",
       "      <th></th>\n",
       "    </tr>\n",
       "  </thead>\n",
       "  <tbody>\n",
       "    <tr>\n",
       "      <th>aia.lev1_euv_12s.2018-12-20T234430Z.193.image_lev1</th>\n",
       "      <td>../../aia193_fits\\aia.lev1_euv_12s.2018-12-20T...</td>\n",
       "    </tr>\n",
       "    <tr>\n",
       "      <th>aia.lev1_euv_12s.2018-12-21T234430Z.193.image_lev1</th>\n",
       "      <td>../../aia193_fits\\aia.lev1_euv_12s.2018-12-21T...</td>\n",
       "    </tr>\n",
       "    <tr>\n",
       "      <th>aia.lev1_euv_12s.2018-12-22T234430Z.193.image_lev1</th>\n",
       "      <td>../../aia193_fits\\aia.lev1_euv_12s.2018-12-22T...</td>\n",
       "    </tr>\n",
       "    <tr>\n",
       "      <th>aia.lev1_euv_12s.2018-12-23T234430Z.193.image_lev1</th>\n",
       "      <td>../../aia193_fits\\aia.lev1_euv_12s.2018-12-23T...</td>\n",
       "    </tr>\n",
       "    <tr>\n",
       "      <th>aia.lev1_euv_12s.2018-12-24T234430Z.193.image_lev1</th>\n",
       "      <td>../../aia193_fits\\aia.lev1_euv_12s.2018-12-24T...</td>\n",
       "    </tr>\n",
       "  </tbody>\n",
       "</table>\n",
       "</div>"
      ],
      "text/plain": [
       "                                                                                                  img\n",
       "FilesIndex                                                                                           \n",
       "aia.lev1_euv_12s.2018-12-20T234430Z.193.image_lev1  ../../aia193_fits\\aia.lev1_euv_12s.2018-12-20T...\n",
       "aia.lev1_euv_12s.2018-12-21T234430Z.193.image_lev1  ../../aia193_fits\\aia.lev1_euv_12s.2018-12-21T...\n",
       "aia.lev1_euv_12s.2018-12-22T234430Z.193.image_lev1  ../../aia193_fits\\aia.lev1_euv_12s.2018-12-22T...\n",
       "aia.lev1_euv_12s.2018-12-23T234430Z.193.image_lev1  ../../aia193_fits\\aia.lev1_euv_12s.2018-12-23T...\n",
       "aia.lev1_euv_12s.2018-12-24T234430Z.193.image_lev1  ../../aia193_fits\\aia.lev1_euv_12s.2018-12-24T..."
      ]
     },
     "execution_count": 4,
     "metadata": {},
     "output_type": "execute_result"
    }
   ],
   "source": [
    "index.sort_values(by='img').head()"
   ]
  },
  {
   "cell_type": "markdown",
   "metadata": {},
   "source": [
    "* modify the index (we will remove a few characters from the string to make it shorter and make it easier to recognize the date and time)"
   ]
  },
  {
   "cell_type": "code",
   "execution_count": 5,
   "metadata": {},
   "outputs": [
    {
     "data": {
      "text/html": [
       "<div>\n",
       "<style scoped>\n",
       "    .dataframe tbody tr th:only-of-type {\n",
       "        vertical-align: middle;\n",
       "    }\n",
       "\n",
       "    .dataframe tbody tr th {\n",
       "        vertical-align: top;\n",
       "    }\n",
       "\n",
       "    .dataframe thead th {\n",
       "        text-align: right;\n",
       "    }\n",
       "</style>\n",
       "<table border=\"1\" class=\"dataframe\">\n",
       "  <thead>\n",
       "    <tr style=\"text-align: right;\">\n",
       "      <th></th>\n",
       "      <th>img</th>\n",
       "    </tr>\n",
       "    <tr>\n",
       "      <th>FilesIndex</th>\n",
       "      <th></th>\n",
       "    </tr>\n",
       "  </thead>\n",
       "  <tbody>\n",
       "    <tr>\n",
       "      <th>2018-12-20T234430Z</th>\n",
       "      <td>../../aia193_fits\\aia.lev1_euv_12s.2018-12-20T...</td>\n",
       "    </tr>\n",
       "    <tr>\n",
       "      <th>2018-12-21T234430Z</th>\n",
       "      <td>../../aia193_fits\\aia.lev1_euv_12s.2018-12-21T...</td>\n",
       "    </tr>\n",
       "    <tr>\n",
       "      <th>2018-12-22T234430Z</th>\n",
       "      <td>../../aia193_fits\\aia.lev1_euv_12s.2018-12-22T...</td>\n",
       "    </tr>\n",
       "    <tr>\n",
       "      <th>2018-12-23T234430Z</th>\n",
       "      <td>../../aia193_fits\\aia.lev1_euv_12s.2018-12-23T...</td>\n",
       "    </tr>\n",
       "    <tr>\n",
       "      <th>2018-12-24T234430Z</th>\n",
       "      <td>../../aia193_fits\\aia.lev1_euv_12s.2018-12-24T...</td>\n",
       "    </tr>\n",
       "  </tbody>\n",
       "</table>\n",
       "</div>"
      ],
      "text/plain": [
       "                                                                  img\n",
       "FilesIndex                                                           \n",
       "2018-12-20T234430Z  ../../aia193_fits\\aia.lev1_euv_12s.2018-12-20T...\n",
       "2018-12-21T234430Z  ../../aia193_fits\\aia.lev1_euv_12s.2018-12-21T...\n",
       "2018-12-22T234430Z  ../../aia193_fits\\aia.lev1_euv_12s.2018-12-22T...\n",
       "2018-12-23T234430Z  ../../aia193_fits\\aia.lev1_euv_12s.2018-12-23T...\n",
       "2018-12-24T234430Z  ../../aia193_fits\\aia.lev1_euv_12s.2018-12-24T..."
      ]
     },
     "execution_count": 5,
     "metadata": {},
     "output_type": "execute_result"
    }
   ],
   "source": [
    "index.index = index.index.map(lambda x: x.split('.')[2])\n",
    "index.head()"
   ]
  },
  {
   "cell_type": "markdown",
   "metadata": {},
   "source": [
    "One useful feature of the `FilesIndex` is the datetime parser that extracts date and time from the filename. Note that this method may require some preprocessing (which we already did above) of the string to make it easier to recognize the date and time."
   ]
  },
  {
   "cell_type": "code",
   "execution_count": 6,
   "metadata": {},
   "outputs": [
    {
     "data": {
      "text/html": [
       "<div>\n",
       "<style scoped>\n",
       "    .dataframe tbody tr th:only-of-type {\n",
       "        vertical-align: middle;\n",
       "    }\n",
       "\n",
       "    .dataframe tbody tr th {\n",
       "        vertical-align: top;\n",
       "    }\n",
       "\n",
       "    .dataframe thead th {\n",
       "        text-align: right;\n",
       "    }\n",
       "</style>\n",
       "<table border=\"1\" class=\"dataframe\">\n",
       "  <thead>\n",
       "    <tr style=\"text-align: right;\">\n",
       "      <th></th>\n",
       "      <th>img</th>\n",
       "      <th>DateTime</th>\n",
       "    </tr>\n",
       "    <tr>\n",
       "      <th>FilesIndex</th>\n",
       "      <th></th>\n",
       "      <th></th>\n",
       "    </tr>\n",
       "  </thead>\n",
       "  <tbody>\n",
       "    <tr>\n",
       "      <th>2018-12-20T234430Z</th>\n",
       "      <td>../../aia193_fits\\aia.lev1_euv_12s.2018-12-20T...</td>\n",
       "      <td>2018-12-20 23:44:30+00:00</td>\n",
       "    </tr>\n",
       "    <tr>\n",
       "      <th>2018-12-21T234430Z</th>\n",
       "      <td>../../aia193_fits\\aia.lev1_euv_12s.2018-12-21T...</td>\n",
       "      <td>2018-12-21 23:44:30+00:00</td>\n",
       "    </tr>\n",
       "    <tr>\n",
       "      <th>2018-12-22T234430Z</th>\n",
       "      <td>../../aia193_fits\\aia.lev1_euv_12s.2018-12-22T...</td>\n",
       "      <td>2018-12-22 23:44:30+00:00</td>\n",
       "    </tr>\n",
       "    <tr>\n",
       "      <th>2018-12-23T234430Z</th>\n",
       "      <td>../../aia193_fits\\aia.lev1_euv_12s.2018-12-23T...</td>\n",
       "      <td>2018-12-23 23:44:30+00:00</td>\n",
       "    </tr>\n",
       "    <tr>\n",
       "      <th>2018-12-24T234430Z</th>\n",
       "      <td>../../aia193_fits\\aia.lev1_euv_12s.2018-12-24T...</td>\n",
       "      <td>2018-12-24 23:44:30+00:00</td>\n",
       "    </tr>\n",
       "  </tbody>\n",
       "</table>\n",
       "</div>"
      ],
      "text/plain": [
       "                                                                  img  \\\n",
       "FilesIndex                                                              \n",
       "2018-12-20T234430Z  ../../aia193_fits\\aia.lev1_euv_12s.2018-12-20T...   \n",
       "2018-12-21T234430Z  ../../aia193_fits\\aia.lev1_euv_12s.2018-12-21T...   \n",
       "2018-12-22T234430Z  ../../aia193_fits\\aia.lev1_euv_12s.2018-12-22T...   \n",
       "2018-12-23T234430Z  ../../aia193_fits\\aia.lev1_euv_12s.2018-12-23T...   \n",
       "2018-12-24T234430Z  ../../aia193_fits\\aia.lev1_euv_12s.2018-12-24T...   \n",
       "\n",
       "                                    DateTime  \n",
       "FilesIndex                                    \n",
       "2018-12-20T234430Z 2018-12-20 23:44:30+00:00  \n",
       "2018-12-21T234430Z 2018-12-21 23:44:30+00:00  \n",
       "2018-12-22T234430Z 2018-12-22 23:44:30+00:00  \n",
       "2018-12-23T234430Z 2018-12-23 23:44:30+00:00  \n",
       "2018-12-24T234430Z 2018-12-24 23:44:30+00:00  "
      ]
     },
     "execution_count": 6,
     "metadata": {},
     "output_type": "execute_result"
    }
   ],
   "source": [
    "index.parse_datetime().head()"
   ]
  },
  {
   "cell_type": "markdown",
   "metadata": {},
   "source": [
    "`DateTime` column can be used to get basic parameters of the Sun (L0 and B0 angles, and the Carrington rotation number):"
   ]
  },
  {
   "cell_type": "code",
   "execution_count": 7,
   "metadata": {},
   "outputs": [
    {
     "data": {
      "text/html": [
       "<div>\n",
       "<style scoped>\n",
       "    .dataframe tbody tr th:only-of-type {\n",
       "        vertical-align: middle;\n",
       "    }\n",
       "\n",
       "    .dataframe tbody tr th {\n",
       "        vertical-align: top;\n",
       "    }\n",
       "\n",
       "    .dataframe thead th {\n",
       "        text-align: right;\n",
       "    }\n",
       "</style>\n",
       "<table border=\"1\" class=\"dataframe\">\n",
       "  <thead>\n",
       "    <tr style=\"text-align: right;\">\n",
       "      <th></th>\n",
       "      <th>img</th>\n",
       "      <th>DateTime</th>\n",
       "      <th>L0</th>\n",
       "      <th>B0</th>\n",
       "      <th>CR</th>\n",
       "    </tr>\n",
       "    <tr>\n",
       "      <th>FilesIndex</th>\n",
       "      <th></th>\n",
       "      <th></th>\n",
       "      <th></th>\n",
       "      <th></th>\n",
       "      <th></th>\n",
       "    </tr>\n",
       "  </thead>\n",
       "  <tbody>\n",
       "    <tr>\n",
       "      <th>2018-12-20T234430Z</th>\n",
       "      <td>../../aia193_fits\\aia.lev1_euv_12s.2018-12-20T...</td>\n",
       "      <td>2018-12-20 23:44:30+00:00</td>\n",
       "      <td>353.448898</td>\n",
       "      <td>-1.631964</td>\n",
       "      <td>2212</td>\n",
       "    </tr>\n",
       "    <tr>\n",
       "      <th>2018-12-21T234430Z</th>\n",
       "      <td>../../aia193_fits\\aia.lev1_euv_12s.2018-12-21T...</td>\n",
       "      <td>2018-12-21 23:44:30+00:00</td>\n",
       "      <td>340.275175</td>\n",
       "      <td>-1.756973</td>\n",
       "      <td>2212</td>\n",
       "    </tr>\n",
       "    <tr>\n",
       "      <th>2018-12-22T234430Z</th>\n",
       "      <td>../../aia193_fits\\aia.lev1_euv_12s.2018-12-22T...</td>\n",
       "      <td>2018-12-22 23:44:30+00:00</td>\n",
       "      <td>327.101705</td>\n",
       "      <td>-1.881456</td>\n",
       "      <td>2212</td>\n",
       "    </tr>\n",
       "    <tr>\n",
       "      <th>2018-12-23T234430Z</th>\n",
       "      <td>../../aia193_fits\\aia.lev1_euv_12s.2018-12-23T...</td>\n",
       "      <td>2018-12-23 23:44:30+00:00</td>\n",
       "      <td>313.928509</td>\n",
       "      <td>-2.005373</td>\n",
       "      <td>2212</td>\n",
       "    </tr>\n",
       "    <tr>\n",
       "      <th>2018-12-24T234430Z</th>\n",
       "      <td>../../aia193_fits\\aia.lev1_euv_12s.2018-12-24T...</td>\n",
       "      <td>2018-12-24 23:44:30+00:00</td>\n",
       "      <td>300.755608</td>\n",
       "      <td>-2.128685</td>\n",
       "      <td>2212</td>\n",
       "    </tr>\n",
       "  </tbody>\n",
       "</table>\n",
       "</div>"
      ],
      "text/plain": [
       "                                                                  img  \\\n",
       "FilesIndex                                                              \n",
       "2018-12-20T234430Z  ../../aia193_fits\\aia.lev1_euv_12s.2018-12-20T...   \n",
       "2018-12-21T234430Z  ../../aia193_fits\\aia.lev1_euv_12s.2018-12-21T...   \n",
       "2018-12-22T234430Z  ../../aia193_fits\\aia.lev1_euv_12s.2018-12-22T...   \n",
       "2018-12-23T234430Z  ../../aia193_fits\\aia.lev1_euv_12s.2018-12-23T...   \n",
       "2018-12-24T234430Z  ../../aia193_fits\\aia.lev1_euv_12s.2018-12-24T...   \n",
       "\n",
       "                                    DateTime          L0        B0    CR  \n",
       "FilesIndex                                                                \n",
       "2018-12-20T234430Z 2018-12-20 23:44:30+00:00  353.448898 -1.631964  2212  \n",
       "2018-12-21T234430Z 2018-12-21 23:44:30+00:00  340.275175 -1.756973  2212  \n",
       "2018-12-22T234430Z 2018-12-22 23:44:30+00:00  327.101705 -1.881456  2212  \n",
       "2018-12-23T234430Z 2018-12-23 23:44:30+00:00  313.928509 -2.005373  2212  \n",
       "2018-12-24T234430Z 2018-12-24 23:44:30+00:00  300.755608 -2.128685  2212  "
      ]
     },
     "execution_count": 7,
     "metadata": {},
     "output_type": "execute_result"
    }
   ],
   "source": [
    "index.get_sun_params().head()"
   ]
  },
  {
   "cell_type": "markdown",
   "metadata": {},
   "source": [
    "The Carrington rotation number can be used to select the files that correspond to the particular rotation number(s):"
   ]
  },
  {
   "cell_type": "code",
   "execution_count": 8,
   "metadata": {},
   "outputs": [
    {
     "data": {
      "text/html": [
       "<div>\n",
       "<style scoped>\n",
       "    .dataframe tbody tr th:only-of-type {\n",
       "        vertical-align: middle;\n",
       "    }\n",
       "\n",
       "    .dataframe tbody tr th {\n",
       "        vertical-align: top;\n",
       "    }\n",
       "\n",
       "    .dataframe thead th {\n",
       "        text-align: right;\n",
       "    }\n",
       "</style>\n",
       "<table border=\"1\" class=\"dataframe\">\n",
       "  <thead>\n",
       "    <tr style=\"text-align: right;\">\n",
       "      <th></th>\n",
       "      <th>img</th>\n",
       "      <th>DateTime</th>\n",
       "      <th>L0</th>\n",
       "      <th>B0</th>\n",
       "    </tr>\n",
       "    <tr>\n",
       "      <th>CR</th>\n",
       "      <th></th>\n",
       "      <th></th>\n",
       "      <th></th>\n",
       "      <th></th>\n",
       "    </tr>\n",
       "  </thead>\n",
       "  <tbody>\n",
       "    <tr>\n",
       "      <th>2213</th>\n",
       "      <td>../../aia193_fits\\aia.lev1_euv_12s.2019-01-16T...</td>\n",
       "      <td>2019-01-16 23:44:30+00:00</td>\n",
       "      <td>357.856648</td>\n",
       "      <td>-4.707531</td>\n",
       "    </tr>\n",
       "    <tr>\n",
       "      <th>2213</th>\n",
       "      <td>../../aia193_fits\\aia.lev1_euv_12s.2019-01-17T...</td>\n",
       "      <td>2019-01-17 23:44:30+00:00</td>\n",
       "      <td>344.689145</td>\n",
       "      <td>-4.804793</td>\n",
       "    </tr>\n",
       "    <tr>\n",
       "      <th>2213</th>\n",
       "      <td>../../aia193_fits\\aia.lev1_euv_12s.2019-01-18T...</td>\n",
       "      <td>2019-01-18 23:44:30+00:00</td>\n",
       "      <td>331.521721</td>\n",
       "      <td>-4.900536</td>\n",
       "    </tr>\n",
       "    <tr>\n",
       "      <th>2213</th>\n",
       "      <td>../../aia193_fits\\aia.lev1_euv_12s.2019-01-19T...</td>\n",
       "      <td>2019-01-19 23:44:30+00:00</td>\n",
       "      <td>318.354380</td>\n",
       "      <td>-4.994727</td>\n",
       "    </tr>\n",
       "    <tr>\n",
       "      <th>2213</th>\n",
       "      <td>../../aia193_fits\\aia.lev1_euv_12s.2019-01-20T...</td>\n",
       "      <td>2019-01-20 23:44:30+00:00</td>\n",
       "      <td>305.187132</td>\n",
       "      <td>-5.087337</td>\n",
       "    </tr>\n",
       "  </tbody>\n",
       "</table>\n",
       "</div>"
      ],
      "text/plain": [
       "                                                    img  \\\n",
       "CR                                                        \n",
       "2213  ../../aia193_fits\\aia.lev1_euv_12s.2019-01-16T...   \n",
       "2213  ../../aia193_fits\\aia.lev1_euv_12s.2019-01-17T...   \n",
       "2213  ../../aia193_fits\\aia.lev1_euv_12s.2019-01-18T...   \n",
       "2213  ../../aia193_fits\\aia.lev1_euv_12s.2019-01-19T...   \n",
       "2213  ../../aia193_fits\\aia.lev1_euv_12s.2019-01-20T...   \n",
       "\n",
       "                      DateTime          L0        B0  \n",
       "CR                                                    \n",
       "2213 2019-01-16 23:44:30+00:00  357.856648 -4.707531  \n",
       "2213 2019-01-17 23:44:30+00:00  344.689145 -4.804793  \n",
       "2213 2019-01-18 23:44:30+00:00  331.521721 -4.900536  \n",
       "2213 2019-01-19 23:44:30+00:00  318.354380 -4.994727  \n",
       "2213 2019-01-20 23:44:30+00:00  305.187132 -5.087337  "
      ]
     },
     "execution_count": 8,
     "metadata": {},
     "output_type": "execute_result"
    }
   ],
   "source": [
    "new_index = index.set_index('CR').loc[[2213]]\n",
    "new_index.head()"
   ]
  },
  {
   "cell_type": "markdown",
   "metadata": {},
   "source": [
    "One more thing to be mentioned is the train/test split of the index. Paramerers of this method are\n",
    "* `train_ratio` (fraction of the train subset)\n",
    "* `shuffle` (whether or not to shuffle the data before splitting)\n",
    "* `seed` (pass an int to reproduce output across multiple calls)"
   ]
  },
  {
   "cell_type": "code",
   "execution_count": 9,
   "metadata": {},
   "outputs": [
    {
     "name": "stdout",
     "output_type": "stream",
     "text": [
      "Train size: 44 \n",
      "Test size: 11\n"
     ]
    },
    {
     "data": {
      "text/html": [
       "<div>\n",
       "<style scoped>\n",
       "    .dataframe tbody tr th:only-of-type {\n",
       "        vertical-align: middle;\n",
       "    }\n",
       "\n",
       "    .dataframe tbody tr th {\n",
       "        vertical-align: top;\n",
       "    }\n",
       "\n",
       "    .dataframe thead th {\n",
       "        text-align: right;\n",
       "    }\n",
       "</style>\n",
       "<table border=\"1\" class=\"dataframe\">\n",
       "  <thead>\n",
       "    <tr style=\"text-align: right;\">\n",
       "      <th></th>\n",
       "      <th>img</th>\n",
       "      <th>DateTime</th>\n",
       "      <th>L0</th>\n",
       "      <th>B0</th>\n",
       "      <th>CR</th>\n",
       "    </tr>\n",
       "    <tr>\n",
       "      <th>FilesIndex</th>\n",
       "      <th></th>\n",
       "      <th></th>\n",
       "      <th></th>\n",
       "      <th></th>\n",
       "      <th></th>\n",
       "    </tr>\n",
       "  </thead>\n",
       "  <tbody>\n",
       "    <tr>\n",
       "      <th>2018-12-23T234430Z</th>\n",
       "      <td>../../aia193_fits\\aia.lev1_euv_12s.2018-12-23T...</td>\n",
       "      <td>2018-12-23 23:44:30+00:00</td>\n",
       "      <td>313.928509</td>\n",
       "      <td>-2.005373</td>\n",
       "      <td>2212</td>\n",
       "    </tr>\n",
       "    <tr>\n",
       "      <th>2019-02-11T234430Z</th>\n",
       "      <td>../../aia193_fits\\aia.lev1_euv_12s.2019-02-11T...</td>\n",
       "      <td>2019-02-11 23:44:30+00:00</td>\n",
       "      <td>15.526681</td>\n",
       "      <td>-6.670577</td>\n",
       "      <td>2213</td>\n",
       "    </tr>\n",
       "    <tr>\n",
       "      <th>2019-02-07T234430Z</th>\n",
       "      <td>../../aia193_fits\\aia.lev1_euv_12s.2019-02-07T...</td>\n",
       "      <td>2019-02-07 23:44:30+00:00</td>\n",
       "      <td>68.193501</td>\n",
       "      <td>-6.452585</td>\n",
       "      <td>2213</td>\n",
       "    </tr>\n",
       "    <tr>\n",
       "      <th>2018-12-31T234430Z</th>\n",
       "      <td>../../aia193_fits\\aia.lev1_euv_12s.2018-12-31T...</td>\n",
       "      <td>2018-12-31 23:44:30+00:00</td>\n",
       "      <td>208.554604</td>\n",
       "      <td>-2.971529</td>\n",
       "      <td>2212</td>\n",
       "    </tr>\n",
       "    <tr>\n",
       "      <th>2019-01-18T234430Z</th>\n",
       "      <td>../../aia193_fits\\aia.lev1_euv_12s.2019-01-18T...</td>\n",
       "      <td>2019-01-18 23:44:30+00:00</td>\n",
       "      <td>331.521721</td>\n",
       "      <td>-4.900536</td>\n",
       "      <td>2213</td>\n",
       "    </tr>\n",
       "  </tbody>\n",
       "</table>\n",
       "</div>"
      ],
      "text/plain": [
       "                                                                  img  \\\n",
       "FilesIndex                                                              \n",
       "2018-12-23T234430Z  ../../aia193_fits\\aia.lev1_euv_12s.2018-12-23T...   \n",
       "2019-02-11T234430Z  ../../aia193_fits\\aia.lev1_euv_12s.2019-02-11T...   \n",
       "2019-02-07T234430Z  ../../aia193_fits\\aia.lev1_euv_12s.2019-02-07T...   \n",
       "2018-12-31T234430Z  ../../aia193_fits\\aia.lev1_euv_12s.2018-12-31T...   \n",
       "2019-01-18T234430Z  ../../aia193_fits\\aia.lev1_euv_12s.2019-01-18T...   \n",
       "\n",
       "                                    DateTime          L0        B0    CR  \n",
       "FilesIndex                                                                \n",
       "2018-12-23T234430Z 2018-12-23 23:44:30+00:00  313.928509 -2.005373  2212  \n",
       "2019-02-11T234430Z 2019-02-11 23:44:30+00:00   15.526681 -6.670577  2213  \n",
       "2019-02-07T234430Z 2019-02-07 23:44:30+00:00   68.193501 -6.452585  2213  \n",
       "2018-12-31T234430Z 2018-12-31 23:44:30+00:00  208.554604 -2.971529  2212  \n",
       "2019-01-18T234430Z 2019-01-18 23:44:30+00:00  331.521721 -4.900536  2213  "
      ]
     },
     "execution_count": 9,
     "metadata": {},
     "output_type": "execute_result"
    }
   ],
   "source": [
    "train, test = index.train_test_split(train_ratio=0.8, shuffle=True)\n",
    "print(\"Train size:\", len(train), \"\\nTest size:\", len(test))\n",
    "train.head()"
   ]
  },
  {
   "cell_type": "markdown",
   "metadata": {},
   "source": [
    "## BatchSampler\n",
    "\n",
    "We use `BatchSampler` to iterate over the dataset in chunks. It becomes useful when dataset is large and does not fit into the memory at once. There are several options how\n",
    "to organize iterations. For demonstration, we create a small dataset with integer indices:"
   ]
  },
  {
   "cell_type": "code",
   "execution_count": 10,
   "metadata": {},
   "outputs": [
    {
     "data": {
      "text/html": [
       "<div>\n",
       "<style scoped>\n",
       "    .dataframe tbody tr th:only-of-type {\n",
       "        vertical-align: middle;\n",
       "    }\n",
       "\n",
       "    .dataframe tbody tr th {\n",
       "        vertical-align: top;\n",
       "    }\n",
       "\n",
       "    .dataframe thead th {\n",
       "        text-align: right;\n",
       "    }\n",
       "</style>\n",
       "<table border=\"1\" class=\"dataframe\">\n",
       "  <thead>\n",
       "    <tr style=\"text-align: right;\">\n",
       "      <th></th>\n",
       "      <th>img</th>\n",
       "      <th>DateTime</th>\n",
       "      <th>L0</th>\n",
       "      <th>B0</th>\n",
       "      <th>CR</th>\n",
       "    </tr>\n",
       "  </thead>\n",
       "  <tbody>\n",
       "    <tr>\n",
       "      <th>0</th>\n",
       "      <td>../../aia193_fits\\aia.lev1_euv_12s.2018-12-20T...</td>\n",
       "      <td>2018-12-20 23:44:30+00:00</td>\n",
       "      <td>353.448898</td>\n",
       "      <td>-1.631964</td>\n",
       "      <td>2212</td>\n",
       "    </tr>\n",
       "    <tr>\n",
       "      <th>1</th>\n",
       "      <td>../../aia193_fits\\aia.lev1_euv_12s.2018-12-21T...</td>\n",
       "      <td>2018-12-21 23:44:30+00:00</td>\n",
       "      <td>340.275175</td>\n",
       "      <td>-1.756973</td>\n",
       "      <td>2212</td>\n",
       "    </tr>\n",
       "    <tr>\n",
       "      <th>2</th>\n",
       "      <td>../../aia193_fits\\aia.lev1_euv_12s.2018-12-22T...</td>\n",
       "      <td>2018-12-22 23:44:30+00:00</td>\n",
       "      <td>327.101705</td>\n",
       "      <td>-1.881456</td>\n",
       "      <td>2212</td>\n",
       "    </tr>\n",
       "    <tr>\n",
       "      <th>3</th>\n",
       "      <td>../../aia193_fits\\aia.lev1_euv_12s.2018-12-23T...</td>\n",
       "      <td>2018-12-23 23:44:30+00:00</td>\n",
       "      <td>313.928509</td>\n",
       "      <td>-2.005373</td>\n",
       "      <td>2212</td>\n",
       "    </tr>\n",
       "    <tr>\n",
       "      <th>4</th>\n",
       "      <td>../../aia193_fits\\aia.lev1_euv_12s.2018-12-24T...</td>\n",
       "      <td>2018-12-24 23:44:30+00:00</td>\n",
       "      <td>300.755608</td>\n",
       "      <td>-2.128685</td>\n",
       "      <td>2212</td>\n",
       "    </tr>\n",
       "    <tr>\n",
       "      <th>5</th>\n",
       "      <td>../../aia193_fits\\aia.lev1_euv_12s.2018-12-25T...</td>\n",
       "      <td>2018-12-25 23:44:30+00:00</td>\n",
       "      <td>287.583022</td>\n",
       "      <td>-2.251351</td>\n",
       "      <td>2212</td>\n",
       "    </tr>\n",
       "  </tbody>\n",
       "</table>\n",
       "</div>"
      ],
      "text/plain": [
       "                                                 img  \\\n",
       "0  ../../aia193_fits\\aia.lev1_euv_12s.2018-12-20T...   \n",
       "1  ../../aia193_fits\\aia.lev1_euv_12s.2018-12-21T...   \n",
       "2  ../../aia193_fits\\aia.lev1_euv_12s.2018-12-22T...   \n",
       "3  ../../aia193_fits\\aia.lev1_euv_12s.2018-12-23T...   \n",
       "4  ../../aia193_fits\\aia.lev1_euv_12s.2018-12-24T...   \n",
       "5  ../../aia193_fits\\aia.lev1_euv_12s.2018-12-25T...   \n",
       "\n",
       "                   DateTime          L0        B0    CR  \n",
       "0 2018-12-20 23:44:30+00:00  353.448898 -1.631964  2212  \n",
       "1 2018-12-21 23:44:30+00:00  340.275175 -1.756973  2212  \n",
       "2 2018-12-22 23:44:30+00:00  327.101705 -1.881456  2212  \n",
       "3 2018-12-23 23:44:30+00:00  313.928509 -2.005373  2212  \n",
       "4 2018-12-24 23:44:30+00:00  300.755608 -2.128685  2212  \n",
       "5 2018-12-25 23:44:30+00:00  287.583022 -2.251351  2212  "
      ]
     },
     "execution_count": 10,
     "metadata": {},
     "output_type": "execute_result"
    }
   ],
   "source": [
    "dindex = index.iloc[:6].reset_index(drop=True)\n",
    "dindex"
   ]
  },
  {
   "cell_type": "markdown",
   "metadata": {},
   "source": [
    "The simplest case is to iterate over the dataset with chunks (batches) of a fixed size, e.g. of size 2. At each iteration we obtain a subset of size 2. Here we show indices in each chunk:"
   ]
  },
  {
   "cell_type": "code",
   "execution_count": 11,
   "metadata": {},
   "outputs": [
    {
     "name": "stdout",
     "output_type": "stream",
     "text": [
      "[0 1]\n",
      "[2 3]\n",
      "[4 5]\n"
     ]
    }
   ],
   "source": [
    "from helio import BatchSampler\n",
    "\n",
    "sampler = BatchSampler(dindex, batch_size=2)\n",
    "\n",
    "for ids in sampler:\n",
    "    print(ids.indices)"
   ]
  },
  {
   "cell_type": "markdown",
   "metadata": {},
   "source": [
    "Sampled index is an instance of `FilesIndex` as well:"
   ]
  },
  {
   "cell_type": "code",
   "execution_count": 12,
   "metadata": {},
   "outputs": [
    {
     "data": {
      "text/html": [
       "<div>\n",
       "<style scoped>\n",
       "    .dataframe tbody tr th:only-of-type {\n",
       "        vertical-align: middle;\n",
       "    }\n",
       "\n",
       "    .dataframe tbody tr th {\n",
       "        vertical-align: top;\n",
       "    }\n",
       "\n",
       "    .dataframe thead th {\n",
       "        text-align: right;\n",
       "    }\n",
       "</style>\n",
       "<table border=\"1\" class=\"dataframe\">\n",
       "  <thead>\n",
       "    <tr style=\"text-align: right;\">\n",
       "      <th></th>\n",
       "      <th>img</th>\n",
       "      <th>DateTime</th>\n",
       "      <th>L0</th>\n",
       "      <th>B0</th>\n",
       "      <th>CR</th>\n",
       "    </tr>\n",
       "  </thead>\n",
       "  <tbody>\n",
       "    <tr>\n",
       "      <th>4</th>\n",
       "      <td>../../aia193_fits\\aia.lev1_euv_12s.2018-12-24T...</td>\n",
       "      <td>2018-12-24 23:44:30+00:00</td>\n",
       "      <td>300.755608</td>\n",
       "      <td>-2.128685</td>\n",
       "      <td>2212</td>\n",
       "    </tr>\n",
       "    <tr>\n",
       "      <th>5</th>\n",
       "      <td>../../aia193_fits\\aia.lev1_euv_12s.2018-12-25T...</td>\n",
       "      <td>2018-12-25 23:44:30+00:00</td>\n",
       "      <td>287.583022</td>\n",
       "      <td>-2.251351</td>\n",
       "      <td>2212</td>\n",
       "    </tr>\n",
       "  </tbody>\n",
       "</table>\n",
       "</div>"
      ],
      "text/plain": [
       "                                                 img  \\\n",
       "4  ../../aia193_fits\\aia.lev1_euv_12s.2018-12-24T...   \n",
       "5  ../../aia193_fits\\aia.lev1_euv_12s.2018-12-25T...   \n",
       "\n",
       "                   DateTime          L0        B0    CR  \n",
       "4 2018-12-24 23:44:30+00:00  300.755608 -2.128685  2212  \n",
       "5 2018-12-25 23:44:30+00:00  287.583022 -2.251351  2212  "
      ]
     },
     "execution_count": 12,
     "metadata": {},
     "output_type": "execute_result"
    }
   ],
   "source": [
    "ids"
   ]
  },
  {
   "cell_type": "markdown",
   "metadata": {},
   "source": [
    "If the `batch_size` does not divide the dataset size, we can either drop incomplete chunks or return incomplete last chunk:"
   ]
  },
  {
   "cell_type": "code",
   "execution_count": 13,
   "metadata": {},
   "outputs": [
    {
     "name": "stdout",
     "output_type": "stream",
     "text": [
      "Only complete batches are sampled:\n",
      "[0 1 2 3]\n",
      "Keep incomplete batches as well:\n",
      "[0 1 2 3]\n",
      "[4 5]\n"
     ]
    }
   ],
   "source": [
    "print('Only complete batches are sampled:')\n",
    "sampler = BatchSampler(dindex, batch_size=4, drop_incomplete=True)\n",
    "for ids in sampler:\n",
    "    print(ids.indices)\n",
    "print('Keep incomplete batches as well:')\n",
    "sampler = BatchSampler(dindex, batch_size=4, drop_incomplete=False)\n",
    "for ids in sampler:\n",
    "    print(ids.indices)"
   ]
  },
  {
   "cell_type": "markdown",
   "metadata": {},
   "source": [
    "There is an option to shuffle data before iterations:"
   ]
  },
  {
   "cell_type": "code",
   "execution_count": 14,
   "metadata": {},
   "outputs": [
    {
     "name": "stdout",
     "output_type": "stream",
     "text": [
      "[2 5]\n",
      "[1 4]\n",
      "[0 3]\n"
     ]
    }
   ],
   "source": [
    "sampler = BatchSampler(dindex, batch_size=2, shuffle=True)\n",
    "for ids in sampler:\n",
    "    print(ids.indices)"
   ]
  },
  {
   "cell_type": "markdown",
   "metadata": {},
   "source": [
    "Finally, we can iterate the dataset many times (epochs) and shuffle data each new epoch:"
   ]
  },
  {
   "cell_type": "code",
   "execution_count": 15,
   "metadata": {},
   "outputs": [
    {
     "name": "stdout",
     "output_type": "stream",
     "text": [
      "[3 2 5]\n",
      "[4 0 1]\n",
      "[4 3 2]\n",
      "[1 0 5]\n"
     ]
    }
   ],
   "source": [
    "sampler = BatchSampler(dindex, n_epochs=2, batch_size=3, shuffle=True)\n",
    "for ids in sampler:\n",
    "    print(ids.indices)"
   ]
  },
  {
   "cell_type": "markdown",
   "metadata": {},
   "source": [
    "## Batch \n",
    "\n",
    "`HelioBatch` provides a framework for data storing and processing. Use `index` to initialize a batch and `load()` to read data from the files. The parameter `src` specifies which column of the `index` contains the file paths."
   ]
  },
  {
   "cell_type": "code",
   "execution_count": 16,
   "metadata": {},
   "outputs": [
    {
     "data": {
      "text/plain": [
       "<helio.core.batch.HelioBatch at 0x1dc5f4ee828>"
      ]
     },
     "execution_count": 16,
     "metadata": {},
     "output_type": "execute_result"
    }
   ],
   "source": [
    "from helio import HelioBatch\n",
    "\n",
    "batch = HelioBatch(dindex)\n",
    "batch.load(src='img', unit=1) # the keyword unit=1 is required for SDO fits files "
   ]
  },
  {
   "cell_type": "markdown",
   "metadata": {},
   "source": [
    "Now the batch items can be accessed by the attribute `img`. Each item is an image of shape"
   ]
  },
  {
   "cell_type": "code",
   "execution_count": 17,
   "metadata": {},
   "outputs": [
    {
     "data": {
      "text/plain": [
       "(4096, 4096)"
      ]
     },
     "execution_count": 17,
     "metadata": {},
     "output_type": "execute_result"
    }
   ],
   "source": [
    "batch.img[0].shape"
   ]
  },
  {
   "cell_type": "markdown",
   "metadata": {},
   "source": [
    "We can plot arrays using the method `show` :"
   ]
  },
  {
   "cell_type": "code",
   "execution_count": 18,
   "metadata": {},
   "outputs": [
    {
     "data": {
      "text/plain": [
       "<AxesSubplot:>"
      ]
     },
     "execution_count": 18,
     "metadata": {},
     "output_type": "execute_result"
    },
    {
     "data": {
      "image/png": "[encoded data removed]",
      "text/plain": [
       "<Figure size 432x288 with 1 Axes>"
      ]
     },
     "metadata": {
      "needs_background": "light"
     },
     "output_type": "display_data"
    }
   ],
   "source": [
    "batch.imshow(src='img', i=0, cmap='gray')"
   ]
  },
  {
   "cell_type": "markdown",
   "metadata": {},
   "source": [
    "Headers of the fits file and some other meta information on the file in stored in the attribute `batch.meta`:"
   ]
  },
  {
   "cell_type": "code",
   "execution_count": 19,
   "metadata": {},
   "outputs": [
    {
     "data": {
      "text/plain": [
       "dict_keys(['SIMPLE', 'BITPIX', 'NAXIS', 'NAXIS1', 'NAXIS2', 'PCOUNT', 'GCOUNT', 'XTENSION', 'T_REC', 'T_OBS', 'WAVELNTH', 'DATE', 'FSN', 'EXPTIME', 'QUALITY', 'ORIGIN', 'TELESCOP', 'INSTRUME', 'DATE-OBS', 'CAMERA', 'IMG_TYPE', 'EXPSDEV', 'INT_TIME', 'WAVEUNIT', 'WAVE_STR', 'FID', 'QUALLEV0', 'TOTVALS', 'DATAVALS', 'MISSVALS', 'PERCENTD', 'DATAMIN', 'DATAMAX', 'DATAMEDN', 'DATAMEAN', 'DATARMS', 'DATASKEW', 'DATAKURT', 'DATACENT', 'DATAP01', 'DATAP10', 'DATAP25', 'DATAP75', 'DATAP90', 'DATAP95', 'DATAP98', 'DATAP99', 'NSATPIX', 'OSCNMEAN', 'OSCNRMS', 'FLAT_REC', 'NSPIKES', 'CTYPE1', 'CUNIT1', 'CRVAL1', 'CDELT1', 'CRPIX1', 'CTYPE2', 'CUNIT2', 'CRVAL2', 'CDELT2', 'CRPIX2', 'CROTA2', 'R_SUN', 'MPO_REC', 'INST_ROT', 'IMSCL_MP', 'X0_MP', 'Y0_MP', 'ASD_REC', 'SAT_Y0', 'SAT_Z0', 'SAT_ROT', 'ACS_MODE', 'ACS_ECLP', 'ACS_SUNP', 'ACS_SAFE', 'ACS_CGT', 'ORB_REC', 'DSUN_REF', 'DSUN_OBS', 'RSUN_REF', 'RSUN_OBS', 'GAEX_OBS', 'GAEY_OBS', 'GAEZ_OBS', 'HAEX_OBS', 'HAEY_OBS', 'HAEZ_OBS', 'OBS_VR', 'OBS_VW', 'OBS_VN', 'CAR_ROT', 'CRLT_OBS', 'CRLN_OBS', 'HGLN_OBS', 'HGLT_OBS', 'ROI_NWIN', 'ROI_SUM', 'ROI_NAX1', 'ROI_NAY1', 'ROI_LLX1', 'ROI_LLY1', 'ROI_NAX2', 'ROI_NAY2', 'ROI_LLX2', 'ROI_LLY2', 'PIXLUNIT', 'DN_GAIN', 'EFF_AREA', 'EFF_AR_V', 'TEMPCCD', 'TEMPGT', 'TEMPSMIR', 'TEMPFPAD', 'ISPSNAME', 'ISPPKTIM', 'ISPPKTVN', 'AIVNMST', 'AIMGOTS', 'ASQHDR', 'ASQTNUM', 'ASQFSN', 'AIAHFSN', 'AECDELAY', 'AIAECTI', 'AIASEN', 'AIFDBID', 'AIMGOTSS', 'AIFCPS', 'AIFTSWTH', 'AIFRMLID', 'AIFTSID', 'AIHISMXB', 'AIHIS192', 'AIHIS348', 'AIHIS604', 'AIHIS860', 'AIFWEN', 'AIMGSHCE', 'AECTYPE', 'AECMODE', 'AISTATE', 'AIAECENF', 'AIFILTYP', 'AIMSHOBC', 'AIMSHOBE', 'AIMSHOTC', 'AIMSHOTE', 'AIMSHCBC', 'AIMSHCBE', 'AIMSHCTC', 'AIMSHCTE', 'AICFGDL1', 'AICFGDL2', 'AICFGDL3', 'AICFGDL4', 'AIFOENFL', 'AIMGFSN', 'AIMGTYP', 'AIAWVLEN', 'AIAGP1', 'AIAGP2', 'AIAGP3', 'AIAGP4', 'AIAGP5', 'AIAGP6', 'AIAGP7', 'AIAGP8', 'AIAGP9', 'AIAGP10', 'AGT1SVY', 'AGT1SVZ', 'AGT2SVY', 'AGT2SVZ', 'AGT3SVY', 'AGT3SVZ', 'AGT4SVY', 'AGT4SVZ', 'AIMGSHEN', 'KEYWDDOC', 'LVL_NUM', 'TRECSTEP', 'TRECEPOC', 'RECNUM', 'BLANK', 'CHECKSUM', 'DATASUM', 'j_cen', 'i_cen', 'r'])"
      ]
     },
     "execution_count": 19,
     "metadata": {},
     "output_type": "execute_result"
    }
   ],
   "source": [
    "batch.meta['img'][0].keys()"
   ]
  },
  {
   "cell_type": "markdown",
   "metadata": {},
   "source": [
    "Now consider working with batch methods. Most methods have `src` and `dst` parameters that specify where to get data and where to write the results. If `dst` is not given, it is assumed that `dst`=`src`. Also one can explicitly set the same values to `src` and `dst` for inplace operations. For example consider image resize. The results will be written to the new attribute: "
   ]
  },
  {
   "cell_type": "code",
   "execution_count": 20,
   "metadata": {},
   "outputs": [
    {
     "data": {
      "text/plain": [
       "<helio.core.batch.HelioBatch at 0x1dc5f4ee828>"
      ]
     },
     "execution_count": 20,
     "metadata": {},
     "output_type": "execute_result"
    }
   ],
   "source": [
    "batch.resize(src='img', dst='img_resized', output_shape=(256, 256), preserve_range=True)"
   ]
  },
  {
   "cell_type": "markdown",
   "metadata": {},
   "source": [
    "The new attribute has been created:"
   ]
  },
  {
   "cell_type": "code",
   "execution_count": 21,
   "metadata": {},
   "outputs": [
    {
     "data": {
      "text/plain": [
       "['img', 'img_resized']"
      ]
     },
     "execution_count": 21,
     "metadata": {},
     "output_type": "execute_result"
    }
   ],
   "source": [
    "batch.attributes"
   ]
  },
  {
   "cell_type": "markdown",
   "metadata": {},
   "source": [
    "The new attribute contains resized data while original data are not lost:"
   ]
  },
  {
   "cell_type": "code",
   "execution_count": 22,
   "metadata": {},
   "outputs": [
    {
     "data": {
      "text/plain": [
       "((4096, 4096), (256, 256))"
      ]
     },
     "execution_count": 22,
     "metadata": {},
     "output_type": "execute_result"
    }
   ],
   "source": [
    "batch.img[0].shape, batch.img_resized[0].shape"
   ]
  },
  {
   "cell_type": "markdown",
   "metadata": {},
   "source": [
    "One can apply custom function to batch items. For example, apply the log-transformation to the pixel values:"
   ]
  },
  {
   "cell_type": "code",
   "execution_count": 23,
   "metadata": {},
   "outputs": [
    {
     "data": {
      "text/plain": [
       "<helio.core.batch.HelioBatch at 0x1dc5f4ee828>"
      ]
     },
     "execution_count": 23,
     "metadata": {},
     "output_type": "execute_result"
    }
   ],
   "source": [
    "import numpy as np\n",
    "\n",
    "def log_scale(x):\n",
    "    return np.log(np.clip(x, 1, None))\n",
    "\n",
    "batch.apply(log_scale, src='img', dst='img_log')"
   ]
  },
  {
   "cell_type": "markdown",
   "metadata": {},
   "source": [
    "Let's look at the results:"
   ]
  },
  {
   "cell_type": "code",
   "execution_count": 24,
   "metadata": {},
   "outputs": [
    {
     "data": {
      "text/plain": [
       "<AxesSubplot:>"
      ]
     },
     "execution_count": 24,
     "metadata": {},
     "output_type": "execute_result"
    },
    {
     "data": {
      "image/png": "[encoded data removed]",
      "text/plain": [
       "<Figure size 432x288 with 1 Axes>"
      ]
     },
     "metadata": {
      "needs_background": "light"
     },
     "output_type": "display_data"
    }
   ],
   "source": [
    "batch.imshow(src='img_log', i=0, cmap='gray')"
   ]
  },
  {
   "cell_type": "markdown",
   "metadata": {},
   "source": [
    "Each batch method returns batch instance and one can orginize methods chaining:"
   ]
  },
  {
   "cell_type": "code",
   "execution_count": 25,
   "metadata": {},
   "outputs": [
    {
     "data": {
      "text/plain": [
       "<helio.core.batch.HelioBatch at 0x1dc5f68efd0>"
      ]
     },
     "execution_count": 25,
     "metadata": {},
     "output_type": "execute_result"
    }
   ],
   "source": [
    "(HelioBatch(dindex).load(src='img', unit=1)\n",
    " .apply(log_scale, src='img', dst='img_log')\n",
    " .resize(src='img_log', dst='resized', output_shape=(256, 256), preserve_range=True))"
   ]
  },
  {
   "cell_type": "markdown",
   "metadata": {},
   "source": [
    "In a combination with `BatchSampler` one can organize iterative dataset processing:"
   ]
  },
  {
   "cell_type": "code",
   "execution_count": 26,
   "metadata": {},
   "outputs": [
    {
     "name": "stderr",
     "output_type": "stream",
     "text": [
      "100%|████████████████████████████████████████████████████████████████████████████████████| 3/3 [00:16<00:00,  5.51s/it]\n"
     ]
    }
   ],
   "source": [
    "from tqdm import tqdm\n",
    "\n",
    "sampler = BatchSampler(dindex, n_epochs=1, batch_size=2)\n",
    "\n",
    "for ids in tqdm(sampler):\n",
    "    (HelioBatch(ids).load(src='img', unit=1)\n",
    "     .apply(log_scale, src='img')\n",
    "     .resize(src='img', output_shape=(256, 256), preserve_range=True)\n",
    "     .dump(src='img', path='./tmp/', format='jpg', cmap='gray'))"
   ]
  },
  {
   "cell_type": "markdown",
   "metadata": {},
   "source": [
    "To learn more about `HelioBatch` methods see the [documentation](http://observethesun.github.io/helio/)."
   ]
  },
  {
   "cell_type": "markdown",
   "metadata": {},
   "source": [
    "Done!"
   ]
  }
 ],
 "metadata": {
  "anaconda-cloud": {},
  "kernelspec": {
   "display_name": "Python 3",
   "language": "python",
   "name": "python3"
  },
  "language_info": {
   "codemirror_mode": {
    "name": "ipython",
    "version": 3
   },
   "file_extension": ".py",
   "mimetype": "text/x-python",
   "name": "python",
   "nbconvert_exporter": "python",
   "pygments_lexer": "ipython3",
   "version": "3.7.0"
  }
 },
 "nbformat": 4,
 "nbformat_minor": 2
}
